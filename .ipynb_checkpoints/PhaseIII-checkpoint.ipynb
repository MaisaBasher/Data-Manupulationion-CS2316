{
 "cells": [
  {
   "cell_type": "markdown",
   "metadata": {
    "id": "GJ4Xt1uf1LT7"
   },
   "source": [
    "# Final Project Phase 3 Summary\n",
    "This Jupyter Notebook (.ipynb) will serve as the skeleton file for your submission for Phase 3 of the Final Project. Complete all sections below as specified in the instructions for the project, covering all necessary details. We will use this to grade your individual code (Do this whether you are in a group or not). Good luck! <br><br>\n",
    "\n",
    "Note: To edit a Markdown cell, double-click on its text."
   ]
  },
  {
   "cell_type": "markdown",
   "metadata": {
    "id": "JEtNzYHagmon"
   },
   "source": []
  },
  {
   "cell_type": "markdown",
   "metadata": {
    "id": "tjB_SbWY1LUB"
   },
   "source": [
    "## Jupyter Notebook Quick Tips\n",
    "Here are some quick formatting tips to get you started with Jupyter Notebooks. This is by no means exhaustive, and there are plenty of articles to highlight other things that can be done. We recommend using HTML syntax for Markdown but there is also Markdown syntax that is more streamlined and might be preferable. \n",
    "<a href = \"https://towardsdatascience.com/markdown-cells-jupyter-notebook-d3bea8416671\">Here's an article</a> that goes into more detail. (Double-click on cell to see syntax)\n",
    "\n",
    "# Heading 1\n",
    "## Heading 2\n",
    "### Heading 3\n",
    "#### Heading 4\n",
    "<br>\n",
    "<b>BoldText</b> or <i>ItalicText</i>\n",
    "<br> <br>\n",
    "Math Formulas: $x^2 + y^2 = 1$\n",
    "<br> <br>\n",
    "Line Breaks are done using br enclosed in < >.\n",
    "<br><br>\n",
    "Hyperlinks are done with: <a> https://www.google.com </a> or \n",
    "<a href=\"http://www.google.com\">Google</a><br>"
   ]
  },
  {
   "cell_type": "markdown",
   "metadata": {},
   "source": [
    "# Video Presentation\n",
    "\n",
    "If you uploaded your Video Presentation to Bluejeans, YouTube, or any other streaming services, please provide the link here:\n",
    "\n",
    "\n",
    "*   Video Presentation Link\n",
    "\n",
    "\n",
    "Make sure the video sharing permissions are accessible for anyone with the provided link."
   ]
  },
  {
   "cell_type": "markdown",
   "metadata": {
    "id": "tb9oVjpRDswQ"
   },
   "source": [
    "# Data Collection and Cleaning\n",
    "\n",
    "\n",
    "Transfer/update the data collection and cleaning you created for Phase II below. You may include additional cleaning functions if you have extra datasets. If no changes are necessary, simply copy and paste your phase II parsing/cleaning functions.\n"
   ]
  },
  {
   "cell_type": "markdown",
   "metadata": {
    "id": "9mRjxZDbE1tj"
   },
   "source": [
    "## Downloaded Dataset Requirement\n",
    "\n"
   ]
  },
  {
   "cell_type": "code",
   "execution_count": 56,
   "metadata": {},
   "outputs": [],
   "source": [
    "import pandas as pd\n",
    "import random\n",
    "import numpy as np\n",
    "from bs4 import BeautifulSoup\n",
    "import requests\n",
    "import json\n",
    "import plotly.express as px"
   ]
  },
  {
   "cell_type": "code",
   "execution_count": 8,
   "metadata": {
    "id": "0p5xxmqzFGrO"
   },
   "outputs": [
    {
     "data": {
      "text/html": [
       "<div>\n",
       "<style scoped>\n",
       "    .dataframe tbody tr th:only-of-type {\n",
       "        vertical-align: middle;\n",
       "    }\n",
       "\n",
       "    .dataframe tbody tr th {\n",
       "        vertical-align: top;\n",
       "    }\n",
       "\n",
       "    .dataframe thead th {\n",
       "        text-align: right;\n",
       "    }\n",
       "</style>\n",
       "<table border=\"1\" class=\"dataframe\">\n",
       "  <thead>\n",
       "    <tr style=\"text-align: right;\">\n",
       "      <th></th>\n",
       "      <th>ID</th>\n",
       "      <th>Case Number</th>\n",
       "      <th>Date</th>\n",
       "      <th>Block</th>\n",
       "      <th>Primary Type</th>\n",
       "      <th>Description</th>\n",
       "      <th>Location Description</th>\n",
       "      <th>Arrest</th>\n",
       "      <th>Domestic</th>\n",
       "      <th>District</th>\n",
       "      <th>Community Area</th>\n",
       "      <th>Year</th>\n",
       "    </tr>\n",
       "  </thead>\n",
       "  <tbody>\n",
       "    <tr>\n",
       "      <th>0</th>\n",
       "      <td>12589893</td>\n",
       "      <td>JF109865</td>\n",
       "      <td>01/11/2022 03:00:00 PM</td>\n",
       "      <td>087XX S KINGSTON AVE</td>\n",
       "      <td>SEX OFFENSE</td>\n",
       "      <td>INDECENT SOLICITATION OF A CHILD</td>\n",
       "      <td>RESIDENCE</td>\n",
       "      <td>False</td>\n",
       "      <td>True</td>\n",
       "      <td>4</td>\n",
       "      <td>South Chicago</td>\n",
       "      <td>2022</td>\n",
       "    </tr>\n",
       "    <tr>\n",
       "      <th>2</th>\n",
       "      <td>12601676</td>\n",
       "      <td>JF124024</td>\n",
       "      <td>01/13/2022 04:00:00 PM</td>\n",
       "      <td>031XX W AUGUSTA BLVD</td>\n",
       "      <td>OFFENSE INVOLVING CHILDREN</td>\n",
       "      <td>AGGRAVATED CRIMINAL SEXUAL ABUSE BY FAMILY MEMBER</td>\n",
       "      <td>RESIDENCE</td>\n",
       "      <td>False</td>\n",
       "      <td>True</td>\n",
       "      <td>12</td>\n",
       "      <td>Humboldt Park</td>\n",
       "      <td>2022</td>\n",
       "    </tr>\n",
       "    <tr>\n",
       "      <th>3</th>\n",
       "      <td>12785595</td>\n",
       "      <td>JF346553</td>\n",
       "      <td>08/05/2022 09:00:00 PM</td>\n",
       "      <td>072XX S UNIVERSITY AVE</td>\n",
       "      <td>SEX OFFENSE</td>\n",
       "      <td>SEXUAL EXPLOITATION OF A CHILD</td>\n",
       "      <td>APARTMENT</td>\n",
       "      <td>True</td>\n",
       "      <td>False</td>\n",
       "      <td>3</td>\n",
       "      <td>Greater Grand Crossing</td>\n",
       "      <td>2022</td>\n",
       "    </tr>\n",
       "    <tr>\n",
       "      <th>4</th>\n",
       "      <td>12808281</td>\n",
       "      <td>JF373517</td>\n",
       "      <td>08/14/2022 02:00:00 PM</td>\n",
       "      <td>055XX W ARDMORE AVE</td>\n",
       "      <td>SEX OFFENSE</td>\n",
       "      <td>AGGRAVATED CRIMINAL SEXUAL ABUSE</td>\n",
       "      <td>RESIDENCE</td>\n",
       "      <td>False</td>\n",
       "      <td>False</td>\n",
       "      <td>16</td>\n",
       "      <td>Jefferson Park</td>\n",
       "      <td>2022</td>\n",
       "    </tr>\n",
       "    <tr>\n",
       "      <th>5</th>\n",
       "      <td>12888104</td>\n",
       "      <td>JF469015</td>\n",
       "      <td>11/10/2022 03:47:00 AM</td>\n",
       "      <td>072XX S MAY ST</td>\n",
       "      <td>WEAPONS VIOLATION</td>\n",
       "      <td>RECKLESS FIREARM DISCHARGE</td>\n",
       "      <td>STREET</td>\n",
       "      <td>False</td>\n",
       "      <td>False</td>\n",
       "      <td>7</td>\n",
       "      <td>Englewood</td>\n",
       "      <td>2022</td>\n",
       "    </tr>\n",
       "    <tr>\n",
       "      <th>...</th>\n",
       "      <td>...</td>\n",
       "      <td>...</td>\n",
       "      <td>...</td>\n",
       "      <td>...</td>\n",
       "      <td>...</td>\n",
       "      <td>...</td>\n",
       "      <td>...</td>\n",
       "      <td>...</td>\n",
       "      <td>...</td>\n",
       "      <td>...</td>\n",
       "      <td>...</td>\n",
       "      <td>...</td>\n",
       "    </tr>\n",
       "    <tr>\n",
       "      <th>238979</th>\n",
       "      <td>13048511</td>\n",
       "      <td>JG231084</td>\n",
       "      <td>12/12/2022 12:00:00 PM</td>\n",
       "      <td>047XX N BROADWAY</td>\n",
       "      <td>DECEPTIVE PRACTICE</td>\n",
       "      <td>EMBEZZLEMENT</td>\n",
       "      <td>COMMERCIAL / BUSINESS OFFICE</td>\n",
       "      <td>False</td>\n",
       "      <td>False</td>\n",
       "      <td>19</td>\n",
       "      <td>Uptown</td>\n",
       "      <td>2022</td>\n",
       "    </tr>\n",
       "    <tr>\n",
       "      <th>238980</th>\n",
       "      <td>13043918</td>\n",
       "      <td>JG224367</td>\n",
       "      <td>10/01/2022 12:01:00 AM</td>\n",
       "      <td>051XX N NORTHWEST HWY</td>\n",
       "      <td>THEFT</td>\n",
       "      <td>FROM BUILDING</td>\n",
       "      <td>COMMERCIAL / BUSINESS OFFICE</td>\n",
       "      <td>False</td>\n",
       "      <td>False</td>\n",
       "      <td>16</td>\n",
       "      <td>Jefferson Park</td>\n",
       "      <td>2022</td>\n",
       "    </tr>\n",
       "    <tr>\n",
       "      <th>238981</th>\n",
       "      <td>13053472</td>\n",
       "      <td>JG236895</td>\n",
       "      <td>11/22/2022 11:00:00 AM</td>\n",
       "      <td>081XX S ARTESIAN AVE</td>\n",
       "      <td>DECEPTIVE PRACTICE</td>\n",
       "      <td>FORGERY</td>\n",
       "      <td>BANK</td>\n",
       "      <td>False</td>\n",
       "      <td>False</td>\n",
       "      <td>8</td>\n",
       "      <td>Ashburn</td>\n",
       "      <td>2022</td>\n",
       "    </tr>\n",
       "    <tr>\n",
       "      <th>238982</th>\n",
       "      <td>13062643</td>\n",
       "      <td>JG248264</td>\n",
       "      <td>04/12/2022 12:00:00 AM</td>\n",
       "      <td>074XX S WABASH AVE</td>\n",
       "      <td>DECEPTIVE PRACTICE</td>\n",
       "      <td>FINANCIAL IDENTITY THEFT $300 AND UNDER</td>\n",
       "      <td>RESIDENCE</td>\n",
       "      <td>False</td>\n",
       "      <td>False</td>\n",
       "      <td>3</td>\n",
       "      <td>Greater Grand Crossing</td>\n",
       "      <td>2022</td>\n",
       "    </tr>\n",
       "    <tr>\n",
       "      <th>238983</th>\n",
       "      <td>13099981</td>\n",
       "      <td>JG292625</td>\n",
       "      <td>03/01/2022 12:00:00 AM</td>\n",
       "      <td>019XX S WABASH AVE</td>\n",
       "      <td>BATTERY</td>\n",
       "      <td>SIMPLE</td>\n",
       "      <td>APARTMENT</td>\n",
       "      <td>False</td>\n",
       "      <td>False</td>\n",
       "      <td>1</td>\n",
       "      <td>Near South Side</td>\n",
       "      <td>2022</td>\n",
       "    </tr>\n",
       "  </tbody>\n",
       "</table>\n",
       "<p>223551 rows × 12 columns</p>\n",
       "</div>"
      ],
      "text/plain": [
       "              ID Case Number                    Date                   Block  \\\n",
       "0       12589893    JF109865  01/11/2022 03:00:00 PM    087XX S KINGSTON AVE   \n",
       "2       12601676    JF124024  01/13/2022 04:00:00 PM    031XX W AUGUSTA BLVD   \n",
       "3       12785595    JF346553  08/05/2022 09:00:00 PM  072XX S UNIVERSITY AVE   \n",
       "4       12808281    JF373517  08/14/2022 02:00:00 PM     055XX W ARDMORE AVE   \n",
       "5       12888104    JF469015  11/10/2022 03:47:00 AM          072XX S MAY ST   \n",
       "...          ...         ...                     ...                     ...   \n",
       "238979  13048511    JG231084  12/12/2022 12:00:00 PM        047XX N BROADWAY   \n",
       "238980  13043918    JG224367  10/01/2022 12:01:00 AM   051XX N NORTHWEST HWY   \n",
       "238981  13053472    JG236895  11/22/2022 11:00:00 AM    081XX S ARTESIAN AVE   \n",
       "238982  13062643    JG248264  04/12/2022 12:00:00 AM      074XX S WABASH AVE   \n",
       "238983  13099981    JG292625  03/01/2022 12:00:00 AM      019XX S WABASH AVE   \n",
       "\n",
       "                      Primary Type  \\\n",
       "0                      SEX OFFENSE   \n",
       "2       OFFENSE INVOLVING CHILDREN   \n",
       "3                      SEX OFFENSE   \n",
       "4                      SEX OFFENSE   \n",
       "5                WEAPONS VIOLATION   \n",
       "...                            ...   \n",
       "238979          DECEPTIVE PRACTICE   \n",
       "238980                       THEFT   \n",
       "238981          DECEPTIVE PRACTICE   \n",
       "238982          DECEPTIVE PRACTICE   \n",
       "238983                     BATTERY   \n",
       "\n",
       "                                              Description  \\\n",
       "0                        INDECENT SOLICITATION OF A CHILD   \n",
       "2       AGGRAVATED CRIMINAL SEXUAL ABUSE BY FAMILY MEMBER   \n",
       "3                          SEXUAL EXPLOITATION OF A CHILD   \n",
       "4                        AGGRAVATED CRIMINAL SEXUAL ABUSE   \n",
       "5                              RECKLESS FIREARM DISCHARGE   \n",
       "...                                                   ...   \n",
       "238979                                       EMBEZZLEMENT   \n",
       "238980                                      FROM BUILDING   \n",
       "238981                                            FORGERY   \n",
       "238982            FINANCIAL IDENTITY THEFT $300 AND UNDER   \n",
       "238983                                             SIMPLE   \n",
       "\n",
       "                Location Description  Arrest  Domestic  District  \\\n",
       "0                          RESIDENCE   False      True         4   \n",
       "2                          RESIDENCE   False      True        12   \n",
       "3                          APARTMENT    True     False         3   \n",
       "4                          RESIDENCE   False     False        16   \n",
       "5                             STREET   False     False         7   \n",
       "...                              ...     ...       ...       ...   \n",
       "238979  COMMERCIAL / BUSINESS OFFICE   False     False        19   \n",
       "238980  COMMERCIAL / BUSINESS OFFICE   False     False        16   \n",
       "238981                          BANK   False     False         8   \n",
       "238982                     RESIDENCE   False     False         3   \n",
       "238983                     APARTMENT   False     False         1   \n",
       "\n",
       "                Community Area  Year  \n",
       "0                South Chicago  2022  \n",
       "2                Humboldt Park  2022  \n",
       "3       Greater Grand Crossing  2022  \n",
       "4               Jefferson Park  2022  \n",
       "5                    Englewood  2022  \n",
       "...                        ...   ...  \n",
       "238979                  Uptown  2022  \n",
       "238980          Jefferson Park  2022  \n",
       "238981                 Ashburn  2022  \n",
       "238982  Greater Grand Crossing  2022  \n",
       "238983         Near South Side  2022  \n",
       "\n",
       "[223551 rows x 12 columns]"
      ]
     },
     "execution_count": 8,
     "metadata": {},
     "output_type": "execute_result"
    }
   ],
   "source": [
    "def data_parser():\n",
    "    df = pd.read_csv(\"Crimes2022.csv\")\n",
    "    # getting rid of unnecessary columns, \n",
    "    df = df.drop([ \"IUCR\", \"FBI Code\",\"Beat\",\"Location\", \"Ward\",\"X Coordinate\", \"Y Coordinate\", \"Updated On\", \"Latitude\", \"Longitude\"], axis = 1)\n",
    "    # removing the rows with null value [Since only necessary columns are considered]\n",
    "    df = df.dropna()\n",
    "    #Getting rid of rows that doesnt't specify crime type\n",
    "    df = df[df[\"Primary Type\"] != \"OTHER OFFENSE\"]\n",
    "    \n",
    "    #replacing community are col code with the actual community are name [later will calculate safest community]\n",
    "    chicago_community_areas = {\n",
    "    1: \"Rogers Park\", 2: \"West Ridge\", 3: \"Uptown\", 4: \"Lincoln Square\", 5: \"North Center\", 6: \"Lake View\", 7: \"Lincoln Park\",\n",
    "    8: \"Near North Side\", 9: \"Edison Park\", 10: \"Norwood Park\", 11: \"Jefferson Park\", 12: \"Forest Glen\", 13: \"North Park\",\n",
    "    14: \"Albany Park\", 15: \"Portage Park\", 16: \"Irving Park\",17: \"Dunning\", 18: \"Montclare\", 19: \"Belmont Cragin\", 20: \"Hermosa\",\n",
    "    21: \"Avondale\", 22: \"Logan Square\", 23: \"Humboldt Park\", 24: \"West Town\", 25: \"Austin\", 26: \"West Garfield Park\", 27: \"East Garfield Park\",\n",
    "    28: \"Near West Side\", 29: \"North Lawndale\", 30: \"South Lawndale\", 31: \"Lower West Side\", 32: \"Loop\", 33: \"Near South Side\", 34: \"Armour Square\",\n",
    "    35: \"Douglas\", 36: \"Oakland\",37: \"Fuller Park\",38: \"Grand Boulevard\",39: \"Kenwood\",40: \"Washington Park\",41: \"Hyde Park\",42: \"Woodlawn\",\n",
    "    43: \"South Shore\",44: \"Chatham\",45: \"Avalon Park\",46: \"South Chicago\",47: \"Burnside\",48: \"Calumet Heights\",49: \"Roseland\",50: \"Pullman\",\n",
    "    51: \"South Deering\",52: \"East Side\",53: \"West Pullman\",54: \"Riverdale\",55: \"Hegewisch\",56: \"Garfield Ridge\", 57: \"Archer Heights\",\n",
    "    58: \"Brighton Park\",59: \"McKinley Park\",60: \"Bridgeport\",61: \"New City\",62: \"West Elsdon\",63: \"Gage Park\",64: \"Clearing\",\n",
    "    65: \"West Lawn\",66: \"Chicago Lawn\",67: \"West Englewood\",68: \"Englewood\",69: \"Greater Grand Crossing\", 70: \"Ashburn\", 71: \"Auburn Gresham\",\n",
    "    72: \"Beverly\", 73: \"Washington Heights\", 74: \"Mount Greenwood\", 75: \"Morgan Park\", 76: \"O'Hare\", 77: \"Edgewater\",\n",
    "}\n",
    "    CA = df[\"Community Area\"].tolist()\n",
    "    caR = [];\n",
    "    for i in CA:\n",
    "        #print(i)\n",
    "        caR.append(chicago_community_areas[i])\n",
    "    df.drop([\"Community Area\"], axis=1)\n",
    "    df[\"Community Area\"] = caR \n",
    "    \n",
    "    df.to_csv(\"Crimes2022_cleaned.csv\")\n",
    "    \n",
    "    return df\n",
    "\n",
    "  #pass\n",
    "\n",
    "############ Function Call ############\n",
    "data_parser()"
   ]
  },
  {
   "cell_type": "markdown",
   "metadata": {
    "id": "794L4vGXFdYw"
   },
   "source": [
    "## Web Collection Requirement \\#1\n"
   ]
  },
  {
   "cell_type": "code",
   "execution_count": 3,
   "metadata": {
    "id": "vXwpJObDFiWM"
   },
   "outputs": [
    {
     "data": {
      "text/plain": [
       "{'CASE_NUMBER': {'non_null': '57879',\n",
       "  'largest': 'Z699822',\n",
       "  'null': '0',\n",
       "  'top': [{'item': 'JD305408', 'count': '15'},\n",
       "   {'item': 'JF457168', 'count': '15'},\n",
       "   {'item': 'JG482761', 'count': '15'},\n",
       "   {'item': 'JE168486', 'count': '14'},\n",
       "   {'item': 'JC555971', 'count': '13'},\n",
       "   {'item': 'HW459047', 'count': '13'},\n",
       "   {'item': 'JE281830', 'count': '11'},\n",
       "   {'item': 'JE262851', 'count': '10'},\n",
       "   {'item': 'JG361505', 'count': '9'},\n",
       "   {'item': 'JF394963', 'count': '9'},\n",
       "   {'item': 'JA301703', 'count': '9'},\n",
       "   {'item': 'HS431273', 'count': '9'},\n",
       "   {'item': 'JE179906', 'count': '8'},\n",
       "   {'item': 'JE309682', 'count': '8'},\n",
       "   {'item': 'JE255457', 'count': '8'},\n",
       "   {'item': 'HW350944', 'count': '8'},\n",
       "   {'item': 'JB379745', 'count': '8'},\n",
       "   {'item': 'JG455266', 'count': '8'},\n",
       "   {'item': 'JC356521', 'count': '7'},\n",
       "   {'item': 'JD286197', 'count': '7'}],\n",
       "  'smallest': 'A000157',\n",
       "  'count': '57879',\n",
       "  'cardinality': '49418'},\n",
       " 'DATE': {'non_null': '57879',\n",
       "  'largest': '2023-12-05T18:01:00.000',\n",
       "  'null': '0',\n",
       "  'top': [{'item': '2023-10-29T01:04:00.000', 'count': '15'},\n",
       "   {'item': '2021-03-14T04:41:00.000', 'count': '15'},\n",
       "   {'item': '2022-10-31T21:20:00.000', 'count': '15'},\n",
       "   {'item': '2020-07-21T18:24:00.000', 'count': '15'},\n",
       "   {'item': '2013-09-19T22:14:00.000', 'count': '13'},\n",
       "   {'item': '2019-12-22T00:34:00.000', 'count': '13'},\n",
       "   {'item': '2021-06-27T22:56:00.000', 'count': '11'},\n",
       "   {'item': '2021-06-12T02:05:00.000', 'count': '10'},\n",
       "   {'item': '2010-07-26T21:14:00.000', 'count': '9'},\n",
       "   {'item': '2023-07-30T00:51:00.000', 'count': '9'},\n",
       "   {'item': '2022-09-13T19:46:00.000', 'count': '9'},\n",
       "   {'item': '2017-06-11T03:14:00.000', 'count': '9'},\n",
       "   {'item': '2021-06-06T03:59:00.000', 'count': '8'},\n",
       "   {'item': '2018-08-05T00:39:00.000', 'count': '8'},\n",
       "   {'item': '2021-07-21T23:55:00.000', 'count': '8'},\n",
       "   {'item': '2023-10-08T02:36:00.000', 'count': '8'},\n",
       "   {'item': '2013-07-06T17:50:00.000', 'count': '8'},\n",
       "   {'item': '2021-03-26T00:08:00.000', 'count': '8'},\n",
       "   {'item': '2023-06-04T01:00:00.000', 'count': '7'},\n",
       "   {'item': '2013-03-21T01:13:00.000', 'count': '7'}],\n",
       "  'smallest': '1991-01-01T00:20:00.000',\n",
       "  'count': '57879',\n",
       "  'cardinality': '49099'},\n",
       " 'BLOCK': {'non_null': '57879',\n",
       "  'largest': '9900 S YATES AVE',\n",
       "  'null': '0',\n",
       "  'top': [{'item': '6400 S DR MARTIN LUTHER KING JR DR', 'count': '95'},\n",
       "   {'item': '3900 W GLADYS AVE', 'count': '50'},\n",
       "   {'item': '5100 W MADISON ST', 'count': '48'},\n",
       "   {'item': '6600 S HALSTED ST', 'count': '48'},\n",
       "   {'item': '800 E 79TH ST', 'count': '48'},\n",
       "   {'item': '2000 E 71ST ST', 'count': '47'},\n",
       "   {'item': '900 E 79TH ST', 'count': '47'},\n",
       "   {'item': '4900 W HUBBARD ST', 'count': '46'},\n",
       "   {'item': '3300 W DOUGLAS BLVD', 'count': '46'},\n",
       "   {'item': '3800 W GLADYS AVE', 'count': '45'},\n",
       "   {'item': '1200 S LAWNDALE AVE', 'count': '43'},\n",
       "   {'item': '3800 W ROOSEVELT RD', 'count': '43'},\n",
       "   {'item': '6200 S DR MARTIN LUTHER KING JR DR', 'count': '42'},\n",
       "   {'item': '4000 W WILCOX ST', 'count': '42'},\n",
       "   {'item': '300 S CICERO AVE', 'count': '40'},\n",
       "   {'item': '1300 W HASTINGS ST', 'count': '40'},\n",
       "   {'item': '4100 W ADAMS ST', 'count': '39'},\n",
       "   {'item': '3700 W CHICAGO AVE', 'count': '38'},\n",
       "   {'item': '6300 S DR MARTIN LUTHER KING JR DR', 'count': '38'},\n",
       "   {'item': '0 S LEAMINGTON AVE', 'count': '38'}],\n",
       "  'smallest': '0 E 100 PL',\n",
       "  'count': '57879',\n",
       "  'cardinality': '15955'},\n",
       " 'VICTIMIZATION_PRIMARY': {'non_null': '57879',\n",
       "  'largest': 'ROBBERY',\n",
       "  'null': '0',\n",
       "  'top': [{'item': 'BATTERY', 'count': '34844'},\n",
       "   {'item': 'HOMICIDE', 'count': '20877'},\n",
       "   {'item': 'ROBBERY', 'count': '1832'},\n",
       "   {'item': 'NON-FATAL', 'count': '323'},\n",
       "   {'item': 'CRIMINAL SEXUAL ASSAULT', 'count': '2'},\n",
       "   {'item': 'PUBLIC PEACE VIOLATION', 'count': '1'}],\n",
       "  'smallest': 'BATTERY',\n",
       "  'count': '57879',\n",
       "  'cardinality': '6'},\n",
       " 'INCIDENT_PRIMARY': {'non_null': '57879',\n",
       "  'largest': 'ROBBERY',\n",
       "  'null': '0',\n",
       "  'top': [{'item': 'BATTERY', 'count': '33543'},\n",
       "   {'item': 'HOMICIDE', 'count': '22506'},\n",
       "   {'item': 'ROBBERY', 'count': '1824'},\n",
       "   {'item': 'NON-FATAL', 'count': '5'},\n",
       "   {'item': 'CRIMINAL SEXUAL ASSAULT', 'count': '1'}],\n",
       "  'smallest': 'BATTERY',\n",
       "  'count': '57879',\n",
       "  'cardinality': '5'},\n",
       " 'GUNSHOT_INJURY_I': {'non_null': '57879',\n",
       "  'largest': 'YES',\n",
       "  'null': '0',\n",
       "  'top': [{'item': 'YES', 'count': '53709'}, {'item': 'NO', 'count': '4170'}],\n",
       "  'smallest': 'NO',\n",
       "  'count': '57879',\n",
       "  'cardinality': '2'},\n",
       " 'ZIP_CODE': {'non_null': '57874',\n",
       "  'largest': '60827',\n",
       "  'null': '5',\n",
       "  'top': [{'item': '60624', 'count': '4196'},\n",
       "   {'item': '60623', 'count': '3567'},\n",
       "   {'item': '60628', 'count': '3404'},\n",
       "   {'item': '60620', 'count': '3247'},\n",
       "   {'item': '60644', 'count': '3053'},\n",
       "   {'item': '60651', 'count': '3033'},\n",
       "   {'item': '60619', 'count': '2994'},\n",
       "   {'item': '60621', 'count': '2932'},\n",
       "   {'item': '60636', 'count': '2919'},\n",
       "   {'item': '60609', 'count': '2700'},\n",
       "   {'item': '60637', 'count': '2638'},\n",
       "   {'item': '60617', 'count': '2405'},\n",
       "   {'item': '60612', 'count': '1924'},\n",
       "   {'item': '60649', 'count': '1912'},\n",
       "   {'item': '60629', 'count': '1905'},\n",
       "   {'item': '60608', 'count': '1703'},\n",
       "   {'item': '60639', 'count': '1205'},\n",
       "   {'item': '60632', 'count': '1179'},\n",
       "   {'item': '60653', 'count': '1096'},\n",
       "   {'item': '60643', 'count': '1087'}],\n",
       "  'smallest': '60601',\n",
       "  'count': '57879',\n",
       "  'cardinality': '58'},\n",
       " 'COMMUNITY_AREA': {'non_null': '57874',\n",
       "  'largest': 'WOODLAWN',\n",
       "  'null': '5',\n",
       "  'top': [{'item': 'AUSTIN', 'count': '4880'},\n",
       "   {'item': 'NORTH LAWNDALE', 'count': '2796'},\n",
       "   {'item': 'HUMBOLDT PARK', 'count': '2700'},\n",
       "   {'item': 'WEST ENGLEWOOD', 'count': '2659'},\n",
       "   {'item': 'ENGLEWOOD', 'count': '2532'},\n",
       "   {'item': 'SOUTH SHORE', 'count': '2302'},\n",
       "   {'item': 'AUBURN GRESHAM', 'count': '2191'},\n",
       "   {'item': 'GREATER GRAND CROSSING', 'count': '2189'},\n",
       "   {'item': 'WEST GARFIELD PARK', 'count': '2154'},\n",
       "   {'item': 'ROSELAND', 'count': '2117'},\n",
       "   {'item': 'NEW CITY', 'count': '1957'},\n",
       "   {'item': 'EAST GARFIELD PARK', 'count': '1851'},\n",
       "   {'item': 'CHICAGO LAWN', 'count': '1726'},\n",
       "   {'item': 'SOUTH LAWNDALE', 'count': '1549'},\n",
       "   {'item': 'WEST PULLMAN', 'count': '1506'},\n",
       "   {'item': 'CHATHAM', 'count': '1395'},\n",
       "   {'item': 'SOUTH CHICAGO', 'count': '1389'},\n",
       "   {'item': 'NEAR WEST SIDE', 'count': '1323'},\n",
       "   {'item': 'WOODLAWN', 'count': '1243'},\n",
       "   {'item': 'GRAND BOULEVARD', 'count': '1049'}],\n",
       "  'smallest': 'ALBANY PARK',\n",
       "  'count': '57879',\n",
       "  'cardinality': '77'},\n",
       " 'DISTRICT': {'non_null': '57874',\n",
       "  'largest': '25',\n",
       "  'null': '5',\n",
       "  'top': [{'item': '11', 'count': '6733'},\n",
       "   {'item': '7', 'count': '5447'},\n",
       "   {'item': '6', 'count': '4246'},\n",
       "   {'item': '10', 'count': '4090'},\n",
       "   {'item': '3', 'count': '4053'},\n",
       "   {'item': '5', 'count': '3817'},\n",
       "   {'item': '4', 'count': '3758'},\n",
       "   {'item': '9', 'count': '3645'},\n",
       "   {'item': '15', 'count': '3483'},\n",
       "   {'item': '8', 'count': '3080'},\n",
       "   {'item': '2', 'count': '2783'},\n",
       "   {'item': '25', 'count': '2701'},\n",
       "   {'item': '12', 'count': '2498'},\n",
       "   {'item': '22', 'count': '1919'},\n",
       "   {'item': '14', 'count': '1350'},\n",
       "   {'item': '24', 'count': '859'},\n",
       "   {'item': '17', 'count': '813'},\n",
       "   {'item': '19', 'count': '735'},\n",
       "   {'item': '18', 'count': '618'},\n",
       "   {'item': '1', 'count': '563'}],\n",
       "  'smallest': '1',\n",
       "  'count': '57879',\n",
       "  'cardinality': '22'},\n",
       " 'AGE': {'non_null': '57879',\n",
       "  'largest': 'UNKNOWN',\n",
       "  'null': '0',\n",
       "  'top': [{'item': '20-29', 'count': '24376'},\n",
       "   {'item': '0-19', 'count': '13279'},\n",
       "   {'item': '30-39', 'count': '11609'},\n",
       "   {'item': '40-49', 'count': '4663'},\n",
       "   {'item': '50-59', 'count': '2081'},\n",
       "   {'item': '60-69', 'count': '766'},\n",
       "   {'item': 'UNKNOWN', 'count': '683'},\n",
       "   {'item': '70-79', 'count': '289'},\n",
       "   {'item': '80+', 'count': '133'}],\n",
       "  'smallest': '0-19',\n",
       "  'count': '57879',\n",
       "  'cardinality': '9'},\n",
       " 'SEX': {'non_null': '57879',\n",
       "  'largest': 'UNKNOWN',\n",
       "  'null': '0',\n",
       "  'top': [{'item': 'M', 'count': '49714'},\n",
       "   {'item': 'F', 'count': '7496'},\n",
       "   {'item': 'UNKNOWN', 'count': '669'}],\n",
       "  'smallest': 'F',\n",
       "  'count': '57879',\n",
       "  'cardinality': '3'},\n",
       " 'RACE': {'non_null': '57879',\n",
       "  'largest': 'WWH',\n",
       "  'null': '0',\n",
       "  'top': [{'item': 'BLK', 'count': '44595'},\n",
       "   {'item': 'WWH', 'count': '9577'},\n",
       "   {'item': 'WHI', 'count': '2090'},\n",
       "   {'item': 'UNKNOWN', 'count': '1008'},\n",
       "   {'item': 'WBH', 'count': '339'},\n",
       "   {'item': 'API', 'count': '241'},\n",
       "   {'item': 'I', 'count': '29'}],\n",
       "  'smallest': 'API',\n",
       "  'count': '57879',\n",
       "  'cardinality': '7'},\n",
       " 'INCIDENT_FBI_DESCR': {'non_null': '57874',\n",
       "  'largest': 'ROBBERY (INDEX)',\n",
       "  'null': '5',\n",
       "  'top': [{'item': 'AGGRAVATED BATTERY (INDEX)', 'count': '33543'},\n",
       "   {'item': 'HOMICIDE - 1ST OR 2ND DEGREE (INDEX)', 'count': '22506'},\n",
       "   {'item': 'ROBBERY (INDEX)', 'count': '1824'},\n",
       "   {'item': 'CRIMINAL SEXUAL ASSAULT (INDEX)', 'count': '1'}],\n",
       "  'smallest': 'AGGRAVATED BATTERY (INDEX)',\n",
       "  'count': '57879',\n",
       "  'cardinality': '4'},\n",
       " 'VICTIMIZATION_IUCR_SECONDARY': {'non_null': '49463',\n",
       "  'largest': 'VEHICULAR HIJACKING',\n",
       "  'null': '8416',\n",
       "  'top': [{'item': 'AGGRAVATED - HANDGUN', 'count': '34191'},\n",
       "   {'item': 'FIRST DEGREE MURDER', 'count': '12634'},\n",
       "   {'item': 'ARMED - HANDGUN', 'count': '953'},\n",
       "   {'item': 'ATTEMPT ARMED - HANDGUN', 'count': '745'},\n",
       "   {'item': 'AGGRAVATED - OTHER FIREARM', 'count': '326'},\n",
       "   {'item': 'AGGRAVATED DOMESTIC BATTERY - HANDGUN', 'count': '220'},\n",
       "   {'item': 'SECOND DEGREE MURDER', 'count': '150'},\n",
       "   {'item': 'AGGRAVATED POLICE OFFICER - HANDGUN', 'count': '79'},\n",
       "   {'item': 'AGGRAVATED VEHICULAR HIJACKING', 'count': '67'},\n",
       "   {'item': 'ATTEMPT ARMED - OTHER FIREARM', 'count': '20'},\n",
       "   {'item': 'AGGRAVATED', 'count': '16'},\n",
       "   {'item': 'ATTEMPT AGGRAVATED', 'count': '16'},\n",
       "   {'item': 'AGGRAVATED DOMESTIC BATTERY - OTHER FIREARM', 'count': '8'},\n",
       "   {'item': 'ARMED - OTHER FIREARM', 'count': '8'},\n",
       "   {'item': 'AGGRAVATED POLICE OFFICER - OTHER FIREARM', 'count': '7'},\n",
       "   {'item': 'AGGRAVATED PROTECTED EMPLOYEE - HANDGUN', 'count': '6'},\n",
       "   {'item': 'VEHICULAR HIJACKING', 'count': '5'},\n",
       "   {'item': 'AGGRAVATED PROTECTED EMPLOYEE - OTHER FIREARM', 'count': '3'},\n",
       "   {'item': 'AGGRAVATED - KNIFE / CUTTING INSTRUMENT', 'count': '2'},\n",
       "   {'item': 'DOMESTIC BATTERY SIMPLE', 'count': '1'}],\n",
       "  'smallest': 'AGGRAVATED',\n",
       "  'count': '57879',\n",
       "  'cardinality': '26'},\n",
       " 'INCIDENT_IUCR_SECONDARY': {'non_null': '49772',\n",
       "  'largest': 'VEHICULAR HIJACKING',\n",
       "  'null': '8107',\n",
       "  'top': [{'item': 'AGGRAVATED - HANDGUN', 'count': '32926'},\n",
       "   {'item': 'FIRST DEGREE MURDER', 'count': '14246'},\n",
       "   {'item': 'ARMED - HANDGUN', 'count': '945'},\n",
       "   {'item': 'ATTEMPT ARMED - HANDGUN', 'count': '745'},\n",
       "   {'item': 'AGGRAVATED - OTHER FIREARM', 'count': '299'},\n",
       "   {'item': 'AGGRAVATED DOMESTIC BATTERY - HANDGUN', 'count': '217'},\n",
       "   {'item': 'SECOND DEGREE MURDER', 'count': '158'},\n",
       "   {'item': 'AGGRAVATED POLICE OFFICER - HANDGUN', 'count': '78'},\n",
       "   {'item': 'AGGRAVATED VEHICULAR HIJACKING', 'count': '67'},\n",
       "   {'item': 'ATTEMPT ARMED - OTHER FIREARM', 'count': '20'},\n",
       "   {'item': 'AGGRAVATED', 'count': '16'},\n",
       "   {'item': 'ATTEMPT AGGRAVATED', 'count': '16'},\n",
       "   {'item': 'AGGRAVATED DOMESTIC BATTERY - OTHER FIREARM', 'count': '8'},\n",
       "   {'item': 'ARMED - OTHER FIREARM', 'count': '8'},\n",
       "   {'item': 'AGGRAVATED PROTECTED EMPLOYEE - HANDGUN', 'count': '6'},\n",
       "   {'item': 'AGGRAVATED POLICE OFFICER - OTHER FIREARM', 'count': '6'},\n",
       "   {'item': 'VEHICULAR HIJACKING', 'count': '5'},\n",
       "   {'item': 'AGGRAVATED PROTECTED EMPLOYEE - OTHER FIREARM', 'count': '3'},\n",
       "   {'item': 'ATTEMPT ARMED - OTHER DANGEROUS WEAPON', 'count': '1'},\n",
       "   {'item': 'ARMED - OTHER DANGEROUS WEAPON', 'count': '1'}],\n",
       "  'smallest': 'AGGRAVATED',\n",
       "  'count': '57879',\n",
       "  'cardinality': '21'},\n",
       " 'LOCATION_DESCRIPTION': {'non_null': '57879',\n",
       "  'largest': 'YMCA',\n",
       "  'null': '0',\n",
       "  'top': [{'item': 'STREET', 'count': '23206'},\n",
       "   {'item': 'SIDEWALK', 'count': '12064'},\n",
       "   {'item': 'ALLEY', 'count': '3520'},\n",
       "   {'item': 'APARTMENT', 'count': '3117'},\n",
       "   {'item': 'AUTO', 'count': '2576'},\n",
       "   {'item': 'RESIDENCE', 'count': '1095'},\n",
       "   {'item': 'HOUSE', 'count': '1004'},\n",
       "   {'item': 'RESIDENCE PORCH/HALLWAY', 'count': '958'},\n",
       "   {'item': 'VEHICLE NON-COMMERCIAL', 'count': '849'},\n",
       "   {'item': 'GAS STATION', 'count': '695'},\n",
       "   {'item': 'PARK PROPERTY', 'count': '679'},\n",
       "   {'item': 'PORCH', 'count': '630'},\n",
       "   {'item': 'RESIDENTIAL YARD (FRONT/BACK)', 'count': '500'},\n",
       "   {'item': 'YARD', 'count': '492'},\n",
       "   {'item': 'PARKING LOT', 'count': '408'},\n",
       "   {'item': 'PARKING LOT/GARAGE(NON.RESID.)', 'count': '402'},\n",
       "   {'item': 'PARKING LOT / GARAGE (NON RESIDENTIAL)', 'count': '317'},\n",
       "   {'item': 'RESIDENCE - PORCH / HALLWAY', 'count': '311'},\n",
       "   {'item': 'VACANT LOT', 'count': '283'},\n",
       "   {'item': 'CHA APARTMENT', 'count': '252'}],\n",
       "  'smallest': 'ABANDONED BUILDING',\n",
       "  'count': '57879',\n",
       "  'cardinality': '181'}}"
      ]
     },
     "execution_count": 3,
     "metadata": {},
     "output_type": "execute_result"
    }
   ],
   "source": [
    "def web_parser1():\n",
    "    x = \"https://data.cityofchicago.org/api/views/gumc-mgzr/columns.json\"\n",
    "    \n",
    "    response = requests.get(x)\n",
    "    data = response.json()\n",
    "    allData  = {}\n",
    "    \n",
    "    #adding necessary columns\n",
    "    consideredCol = [\"CASE_NUMBER\",\"DATE\", \"BLOCK\", \"VICTIMIZATION_PRIMARY\",\"INCIDENT_PRIMARY\", \"GUNSHOT_INJURY_I\", \"ZIP_CODE\", \"COMMUNITY_AREA\", \"DISTRICT\", \"AGE\", \"SEX\", \"RACE\", \"INCIDENT_FBI_DESCR\", \"VICTIMIZATION_IUCR_SECONDARY\", \"INCIDENT_IUCR_SECONDARY\", \"LOCATION_DESCRIPTION\", \"Police Districts\", \"Community Areas\"]\n",
    "    \n",
    "    #the list in \"cachedContents\" for each key(col) is the thing I need to conduct analysis\n",
    "    for d in data:\n",
    "        if \"cachedContents\" in d and d[\"name\"] in consideredCol:\n",
    "            allData [d[\"name\"]]= d[\"cachedContents\"]\n",
    "            \n",
    "            \n",
    "    json_object = json.dumps(allData )\n",
    "    with open(\"ChicagoCrimeRates.json\", \"w\") as outfile: \n",
    "        json.dump(allData , outfile)\n",
    "        \n",
    "    return allData\n",
    "  #pass\n",
    "\n",
    "############ Function Call ############\n",
    "web_parser1()"
   ]
  },
  {
   "cell_type": "markdown",
   "metadata": {
    "id": "OTRqdBG6sSvu"
   },
   "source": [
    "## Web Collection Requirement #2"
   ]
  },
  {
   "cell_type": "code",
   "execution_count": 4,
   "metadata": {
    "id": "YtV_MYeusYDd"
   },
   "outputs": [
    {
     "data": {
      "text/html": [
       "<div>\n",
       "<style scoped>\n",
       "    .dataframe tbody tr th:only-of-type {\n",
       "        vertical-align: middle;\n",
       "    }\n",
       "\n",
       "    .dataframe tbody tr th {\n",
       "        vertical-align: top;\n",
       "    }\n",
       "\n",
       "    .dataframe thead th {\n",
       "        text-align: right;\n",
       "    }\n",
       "</style>\n",
       "<table border=\"1\" class=\"dataframe\">\n",
       "  <thead>\n",
       "    <tr style=\"text-align: right;\">\n",
       "      <th></th>\n",
       "      <th>safest Neighbourhood in Chicago</th>\n",
       "    </tr>\n",
       "  </thead>\n",
       "  <tbody>\n",
       "    <tr>\n",
       "      <th>0</th>\n",
       "      <td>Norwood Park South</td>\n",
       "    </tr>\n",
       "    <tr>\n",
       "      <th>1</th>\n",
       "      <td>Beverly South</td>\n",
       "    </tr>\n",
       "    <tr>\n",
       "      <th>2</th>\n",
       "      <td>Forest Glen South</td>\n",
       "    </tr>\n",
       "    <tr>\n",
       "      <th>3</th>\n",
       "      <td>Dunning Northeast</td>\n",
       "    </tr>\n",
       "    <tr>\n",
       "      <th>4</th>\n",
       "      <td>Portage Park Northwest</td>\n",
       "    </tr>\n",
       "    <tr>\n",
       "      <th>5</th>\n",
       "      <td>Dunning West</td>\n",
       "    </tr>\n",
       "    <tr>\n",
       "      <th>6</th>\n",
       "      <td>Forest Glen West</td>\n",
       "    </tr>\n",
       "    <tr>\n",
       "      <th>7</th>\n",
       "      <td>North Park East</td>\n",
       "    </tr>\n",
       "    <tr>\n",
       "      <th>8</th>\n",
       "      <td>Belmont Heights West</td>\n",
       "    </tr>\n",
       "    <tr>\n",
       "      <th>9</th>\n",
       "      <td>Dunning Northwest</td>\n",
       "    </tr>\n",
       "  </tbody>\n",
       "</table>\n",
       "</div>"
      ],
      "text/plain": [
       "  safest Neighbourhood in Chicago\n",
       "0              Norwood Park South\n",
       "1                   Beverly South\n",
       "2               Forest Glen South\n",
       "3               Dunning Northeast\n",
       "4          Portage Park Northwest\n",
       "5                    Dunning West\n",
       "6                Forest Glen West\n",
       "7                 North Park East\n",
       "8            Belmont Heights West\n",
       "9               Dunning Northwest"
      ]
     },
     "execution_count": 4,
     "metadata": {},
     "output_type": "execute_result"
    }
   ],
   "source": [
    "def web_parser2_1():\n",
    "    \n",
    "    url = \"https://www.neighborhoodscout.com/il/chicago/crime\"\n",
    "    #url = \"https://www.way.com/blog/chicagos-crime-rates/\"\n",
    "    resp = requests.get(url)\n",
    "    soup = BeautifulSoup(resp.text, \"html.parser\")\n",
    "    ol = soup.find(\"ol\")\n",
    "    safeNeighbourhood = ol.find_all(\"li\")\n",
    "    safeNeighbourhoodList = []\n",
    "    \n",
    "    for i in safeNeighbourhood:\n",
    "        safeNeighbourhoodList.append(i.text.strip())\n",
    "    \n",
    "    df = pd.DataFrame()\n",
    "    df[\"safest Neighbourhood in Chicago\"] = safeNeighbourhoodList\n",
    "    \n",
    "    df.to_csv(\"safeNeighbourhoodChicago.csv\")\n",
    "    \n",
    "    return df\n",
    "\n",
    "\n",
    "\n",
    "############ Function Call ############\n",
    "web_parser2_1()"
   ]
  },
  {
   "cell_type": "code",
   "execution_count": 5,
   "metadata": {},
   "outputs": [
    {
     "data": {
      "text/html": [
       "<div>\n",
       "<style scoped>\n",
       "    .dataframe tbody tr th:only-of-type {\n",
       "        vertical-align: middle;\n",
       "    }\n",
       "\n",
       "    .dataframe tbody tr th {\n",
       "        vertical-align: top;\n",
       "    }\n",
       "\n",
       "    .dataframe thead th {\n",
       "        text-align: right;\n",
       "    }\n",
       "</style>\n",
       "<table border=\"1\" class=\"dataframe\">\n",
       "  <thead>\n",
       "    <tr style=\"text-align: right;\">\n",
       "      <th></th>\n",
       "      <th>Violent</th>\n",
       "      <th>Property</th>\n",
       "      <th>Total</th>\n",
       "    </tr>\n",
       "  </thead>\n",
       "  <tbody>\n",
       "    <tr>\n",
       "      <th>Number of Crimes</th>\n",
       "      <td>23,449</td>\n",
       "      <td>64,221</td>\n",
       "      <td>87,670</td>\n",
       "    </tr>\n",
       "    <tr>\n",
       "      <th>Crime Rate\\n\\n(per 1,000 residents)</th>\n",
       "      <td>8.70</td>\n",
       "      <td>23.82</td>\n",
       "      <td>32.51</td>\n",
       "    </tr>\n",
       "  </tbody>\n",
       "</table>\n",
       "</div>"
      ],
      "text/plain": [
       "                                    Violent Property   Total\n",
       "Number of Crimes                     23,449   64,221  87,670\n",
       "Crime Rate\\n\\n(per 1,000 residents)    8.70    23.82   32.51"
      ]
     },
     "execution_count": 5,
     "metadata": {},
     "output_type": "execute_result"
    }
   ],
   "source": [
    "def web_parser2_2():\n",
    "    url = \"https://www.neighborhoodscout.com/il/chicago/crime\"\n",
    "    resp = requests.get(url)\n",
    "    soup = BeautifulSoup(resp.text, \"html.parser\")\n",
    "    data = soup.find(\"div\", {\"class\": \"table-responsive\"})\n",
    "    t = data.find(\"table\")\n",
    "    head = t.find_all(\"th\")[1:]\n",
    "    col = []\n",
    "    for i in head:\n",
    "        col.append(i.text.strip())\n",
    "        \n",
    "    data = t.find_all(\"p\")\n",
    "    r1 = []\n",
    "    r2 = []\n",
    "    index = []\n",
    "    for i,v in enumerate(data):\n",
    "        if i == 0 or i == 4:\n",
    "            index.append(v.text.strip())\n",
    "        elif i > 0 and i < 4:\n",
    "            r1.append(v.text.strip())\n",
    "        else:\n",
    "            r2.append(v.text.strip())\n",
    "            \n",
    "    data = [r1 , r2]\n",
    "    \n",
    "    df = pd.DataFrame(data, columns = col)\n",
    "    df.index = index\n",
    "    df.to_csv(\"ChicagoCrime.csv\")\n",
    "    \n",
    "    return df\n",
    "\n",
    "############ Function Call ############\n",
    "web_parser2_2()"
   ]
  },
  {
   "cell_type": "code",
   "execution_count": 6,
   "metadata": {},
   "outputs": [],
   "source": [
    "def getTable(data, c, row):\n",
    "    \n",
    "    t = data.find(\"table\")\n",
    "    head = t.find_all(\"th\")[1:]\n",
    "    col = []\n",
    "    for i in head:\n",
    "        col.append(i.text.strip())\n",
    "        \n",
    "    data = t.find_all(\"td\")\n",
    "    r1 = []\n",
    "    r2 = []\n",
    "    index = []\n",
    "    for i,v in enumerate(data):\n",
    "        if i == 0 or i == (c):\n",
    "            index.append(v.text.strip())\n",
    "        elif i > 0 and i < (c):\n",
    "            r1.append(v.text.strip())\n",
    "        else:\n",
    "            r2.append(v.text.strip())\n",
    "            \n",
    "    data = [r1 , r2]\n",
    "    \n",
    "    df = pd.DataFrame(data, columns = col)\n",
    "    df.index = index\n",
    "    \n",
    "    return df"
   ]
  },
  {
   "cell_type": "code",
   "execution_count": 7,
   "metadata": {},
   "outputs": [
    {
     "data": {
      "text/html": [
       "<div>\n",
       "<style scoped>\n",
       "    .dataframe tbody tr th:only-of-type {\n",
       "        vertical-align: middle;\n",
       "    }\n",
       "\n",
       "    .dataframe tbody tr th {\n",
       "        vertical-align: top;\n",
       "    }\n",
       "\n",
       "    .dataframe thead th {\n",
       "        text-align: right;\n",
       "    }\n",
       "</style>\n",
       "<table border=\"1\" class=\"dataframe\">\n",
       "  <thead>\n",
       "    <tr style=\"text-align: right;\">\n",
       "      <th></th>\n",
       "      <th>Murder</th>\n",
       "      <th>Rape</th>\n",
       "      <th>Robbery</th>\n",
       "      <th>Assault</th>\n",
       "      <th>burglary</th>\n",
       "      <th>theft</th>\n",
       "      <th>motor vehicle theft</th>\n",
       "    </tr>\n",
       "  </thead>\n",
       "  <tbody>\n",
       "    <tr>\n",
       "      <th>Report Total</th>\n",
       "      <td>22,941</td>\n",
       "      <td>144,285</td>\n",
       "      <td>202,155</td>\n",
       "      <td>943,774</td>\n",
       "      <td>899,656</td>\n",
       "      <td>4,626,970</td>\n",
       "      <td>890,179</td>\n",
       "    </tr>\n",
       "    <tr>\n",
       "      <th>Rate per 1,000</th>\n",
       "      <td>0.07</td>\n",
       "      <td>0.43</td>\n",
       "      <td>0.61</td>\n",
       "      <td>2.84</td>\n",
       "      <td>2.71</td>\n",
       "      <td>13.94</td>\n",
       "      <td>2.68</td>\n",
       "    </tr>\n",
       "  </tbody>\n",
       "</table>\n",
       "</div>"
      ],
      "text/plain": [
       "                Murder     Rape  Robbery  Assault burglary      theft  \\\n",
       "Report Total    22,941  144,285  202,155  943,774  899,656  4,626,970   \n",
       "Rate per 1,000    0.07     0.43     0.61     2.84     2.71      13.94   \n",
       "\n",
       "               motor vehicle theft  \n",
       "Report Total               890,179  \n",
       "Rate per 1,000                2.68  "
      ]
     },
     "execution_count": 7,
     "metadata": {},
     "output_type": "execute_result"
    }
   ],
   "source": [
    "def web_parser2_3():\n",
    "    \n",
    "    url = \"https://www.neighborhoodscout.com/il/chicago/crime\"\n",
    "    resp = requests.get(url)\n",
    "    soup = BeautifulSoup(resp.text, \"html.parser\")\n",
    "    tables = soup.find_all(\"div\", {\"class\": \"table-responsive\"})\n",
    "    \n",
    "    # First table with US crime statisticts [MURDER, RAPE, ROBBERY, ASSAULT]\n",
    "    usCrime1 = tables[2]\n",
    "    \n",
    "    # Second table with US crime statisticts [BURGLARY, THEFT, MOTOR, MOTOR VAHICLE THEFT]\n",
    "    usCrime2 = tables[4]\n",
    "    \n",
    "    #getting dataframe\n",
    "    df1 = getTable(usCrime1, 5, 2)\n",
    "    df2 = getTable(usCrime2, 4, 2)\n",
    "    \n",
    "    #combining the tables\n",
    "    uscombined = pd.concat([df1,df2], axis=1)\n",
    "    \n",
    "    return uscombined\n",
    "\n",
    "\n",
    "\n",
    "\n",
    "\n",
    "############ Function Call ############\n",
    "web_parser2_3()"
   ]
  },
  {
   "cell_type": "markdown",
   "metadata": {
    "id": "E5IgIeLI9Kw2"
   },
   "source": [
    "#Inconsistency Revisions\n",
    " **If you were requested to revise your inconsistency section from Phase II, enter your responses here. Otherwise, ignore this section.**\n",
    "\n",
    "For each inconsistency (NaN, null, duplicate values, empty strings, etc.) you discover in your datasets, write at least 2 sentences stating the significance, how you identified it, and how you handled it.\n",
    "\n",
    "1. \n",
    "\n",
    "2. \n",
    "\n",
    "3. \n",
    "\n",
    "4. (if applicable)\n",
    "\n",
    "5. (if applicable)\n"
   ]
  },
  {
   "cell_type": "markdown",
   "metadata": {
    "id": "8SQxJGDUs1gw"
   },
   "source": [
    "## Data Sources\n",
    "\n",
    "Include sources (as links) to your datasets. If any of these are different from your sources used in Phase II, please <b>clearly</b> specify.\n",
    "\n",
    "*   Downloaded Dataset Source: https://data.cityofchicago.org/Public-Safety/Crimes-2022/9hwr-2zxp/data\n",
    "*   Web Collection #1 Source:\n",
    "https://www.way.com/blog/chicagos-crime-rates/#:~:text=Statistics%20say%20that%20the%20crime,1%2C985%20crimes%20per %20100%2C000%20people.\n",
    "*   Web Collection #2  https://www.neighborhoodscout.com/il/chicago/crime\n",
    "\n",
    "\n",
    "\n"
   ]
  },
  {
   "cell_type": "markdown",
   "metadata": {
    "id": "A-CWo6kwvFvS"
   },
   "source": [
    "# Data Analysis\n",
    "For the Data Analysis section, you are required to utilize your data to complete the following:\n",
    "\n",
    "*   Create at least 5 insights\n",
    "*   Generate at least 3 data visualizations\n",
    "\n",
    "Create a function for each of the following sections mentioned above. Do not forget to fill out the explanation section for each function. \n",
    "\n",
    "Make sure your data analysis is not too simple. Performing complex aggregation and using modules not taught in class shows effort, which will increase the chance of receiving full credit. "
   ]
  },
  {
   "cell_type": "markdown",
   "metadata": {
    "id": "7GzggCBoxwGA"
   },
   "source": [
    "# Topic Summary\n",
    "\n",
    "Please provide a brief executive summary (5 sentences or less) discussing your topic:"
   ]
  },
  {
   "cell_type": "markdown",
   "metadata": {
    "id": "VWv36q-Owkbi"
   },
   "source": [
    "## Insights"
   ]
  },
  {
   "cell_type": "code",
   "execution_count": 54,
   "metadata": {
    "id": "0J5Z3M84wmaY"
   },
   "outputs": [
    {
     "data": {
      "text/html": [
       "<div>\n",
       "<style scoped>\n",
       "    .dataframe tbody tr th:only-of-type {\n",
       "        vertical-align: middle;\n",
       "    }\n",
       "\n",
       "    .dataframe tbody tr th {\n",
       "        vertical-align: top;\n",
       "    }\n",
       "\n",
       "    .dataframe thead th {\n",
       "        text-align: right;\n",
       "    }\n",
       "</style>\n",
       "<table border=\"1\" class=\"dataframe\">\n",
       "  <thead>\n",
       "    <tr style=\"text-align: right;\">\n",
       "      <th></th>\n",
       "      <th>Total</th>\n",
       "      <th>Combined_Total_Cases</th>\n",
       "    </tr>\n",
       "    <tr>\n",
       "      <th>Primary Type</th>\n",
       "      <th></th>\n",
       "      <th></th>\n",
       "    </tr>\n",
       "  </thead>\n",
       "  <tbody>\n",
       "    <tr>\n",
       "      <th>ARSON</th>\n",
       "      <td>422</td>\n",
       "      <td>422</td>\n",
       "    </tr>\n",
       "    <tr>\n",
       "      <th>ASSAULT</th>\n",
       "      <td>20800</td>\n",
       "      <td>20800</td>\n",
       "    </tr>\n",
       "    <tr>\n",
       "      <th>BATTERY</th>\n",
       "      <td>40916</td>\n",
       "      <td>74465</td>\n",
       "    </tr>\n",
       "    <tr>\n",
       "      <th>BURGLARY</th>\n",
       "      <td>7592</td>\n",
       "      <td>7592</td>\n",
       "    </tr>\n",
       "    <tr>\n",
       "      <th>CONCEALED CARRY LICENSE VIOLATION</th>\n",
       "      <td>177</td>\n",
       "      <td>177</td>\n",
       "    </tr>\n",
       "    <tr>\n",
       "      <th>CRIMINAL DAMAGE</th>\n",
       "      <td>27240</td>\n",
       "      <td>27240</td>\n",
       "    </tr>\n",
       "    <tr>\n",
       "      <th>CRIMINAL SEXUAL ASSAULT</th>\n",
       "      <td>1560</td>\n",
       "      <td>1561</td>\n",
       "    </tr>\n",
       "    <tr>\n",
       "      <th>CRIMINAL TRESPASS</th>\n",
       "      <td>4224</td>\n",
       "      <td>4224</td>\n",
       "    </tr>\n",
       "    <tr>\n",
       "      <th>DECEPTIVE PRACTICE</th>\n",
       "      <td>15624</td>\n",
       "      <td>15624</td>\n",
       "    </tr>\n",
       "    <tr>\n",
       "      <th>GAMBLING</th>\n",
       "      <td>9</td>\n",
       "      <td>9</td>\n",
       "    </tr>\n",
       "    <tr>\n",
       "      <th>HOMICIDE</th>\n",
       "      <td>726</td>\n",
       "      <td>23236</td>\n",
       "    </tr>\n",
       "    <tr>\n",
       "      <th>HUMAN TRAFFICKING</th>\n",
       "      <td>17</td>\n",
       "      <td>17</td>\n",
       "    </tr>\n",
       "    <tr>\n",
       "      <th>INTERFERENCE WITH PUBLIC OFFICER</th>\n",
       "      <td>393</td>\n",
       "      <td>393</td>\n",
       "    </tr>\n",
       "    <tr>\n",
       "      <th>INTIMIDATION</th>\n",
       "      <td>184</td>\n",
       "      <td>184</td>\n",
       "    </tr>\n",
       "    <tr>\n",
       "      <th>KIDNAPPING</th>\n",
       "      <td>117</td>\n",
       "      <td>117</td>\n",
       "    </tr>\n",
       "    <tr>\n",
       "      <th>LIQUOR LAW VIOLATION</th>\n",
       "      <td>203</td>\n",
       "      <td>203</td>\n",
       "    </tr>\n",
       "    <tr>\n",
       "      <th>MOTOR VEHICLE THEFT</th>\n",
       "      <td>21447</td>\n",
       "      <td>21447</td>\n",
       "    </tr>\n",
       "    <tr>\n",
       "      <th>NARCOTICS</th>\n",
       "      <td>4731</td>\n",
       "      <td>4731</td>\n",
       "    </tr>\n",
       "    <tr>\n",
       "      <th>NON-CRIMINAL</th>\n",
       "      <td>5</td>\n",
       "      <td>10</td>\n",
       "    </tr>\n",
       "    <tr>\n",
       "      <th>OBSCENITY</th>\n",
       "      <td>48</td>\n",
       "      <td>48</td>\n",
       "    </tr>\n",
       "    <tr>\n",
       "      <th>OFFENSE INVOLVING CHILDREN</th>\n",
       "      <td>1872</td>\n",
       "      <td>1872</td>\n",
       "    </tr>\n",
       "    <tr>\n",
       "      <th>OTHER NARCOTIC VIOLATION</th>\n",
       "      <td>7</td>\n",
       "      <td>7</td>\n",
       "    </tr>\n",
       "    <tr>\n",
       "      <th>PROSTITUTION</th>\n",
       "      <td>283</td>\n",
       "      <td>283</td>\n",
       "    </tr>\n",
       "    <tr>\n",
       "      <th>PUBLIC INDECENCY</th>\n",
       "      <td>5</td>\n",
       "      <td>5</td>\n",
       "    </tr>\n",
       "    <tr>\n",
       "      <th>PUBLIC PEACE VIOLATION</th>\n",
       "      <td>711</td>\n",
       "      <td>711</td>\n",
       "    </tr>\n",
       "    <tr>\n",
       "      <th>ROBBERY</th>\n",
       "      <td>8963</td>\n",
       "      <td>10788</td>\n",
       "    </tr>\n",
       "    <tr>\n",
       "      <th>SEX OFFENSE</th>\n",
       "      <td>1222</td>\n",
       "      <td>1222</td>\n",
       "    </tr>\n",
       "    <tr>\n",
       "      <th>STALKING</th>\n",
       "      <td>447</td>\n",
       "      <td>447</td>\n",
       "    </tr>\n",
       "    <tr>\n",
       "      <th>THEFT</th>\n",
       "      <td>54831</td>\n",
       "      <td>54831</td>\n",
       "    </tr>\n",
       "    <tr>\n",
       "      <th>WEAPONS VIOLATION</th>\n",
       "      <td>8775</td>\n",
       "      <td>8775</td>\n",
       "    </tr>\n",
       "  </tbody>\n",
       "</table>\n",
       "</div>"
      ],
      "text/plain": [
       "                                   Total  Combined_Total_Cases\n",
       "Primary Type                                                  \n",
       "ARSON                                422                   422\n",
       "ASSAULT                            20800                 20800\n",
       "BATTERY                            40916                 74465\n",
       "BURGLARY                            7592                  7592\n",
       "CONCEALED CARRY LICENSE VIOLATION    177                   177\n",
       "CRIMINAL DAMAGE                    27240                 27240\n",
       "CRIMINAL SEXUAL ASSAULT             1560                  1561\n",
       "CRIMINAL TRESPASS                   4224                  4224\n",
       "DECEPTIVE PRACTICE                 15624                 15624\n",
       "GAMBLING                               9                     9\n",
       "HOMICIDE                             726                 23236\n",
       "HUMAN TRAFFICKING                     17                    17\n",
       "INTERFERENCE WITH PUBLIC OFFICER     393                   393\n",
       "INTIMIDATION                         184                   184\n",
       "KIDNAPPING                           117                   117\n",
       "LIQUOR LAW VIOLATION                 203                   203\n",
       "MOTOR VEHICLE THEFT                21447                 21447\n",
       "NARCOTICS                           4731                  4731\n",
       "NON-CRIMINAL                           5                    10\n",
       "OBSCENITY                             48                    48\n",
       "OFFENSE INVOLVING CHILDREN          1872                  1872\n",
       "OTHER NARCOTIC VIOLATION               7                     7\n",
       "PROSTITUTION                         283                   283\n",
       "PUBLIC INDECENCY                       5                     5\n",
       "PUBLIC PEACE VIOLATION               711                   711\n",
       "ROBBERY                             8963                 10788\n",
       "SEX OFFENSE                         1222                  1222\n",
       "STALKING                             447                   447\n",
       "THEFT                              54831                 54831\n",
       "WEAPONS VIOLATION                   8775                  8775"
      ]
     },
     "execution_count": 54,
     "metadata": {},
     "output_type": "execute_result"
    }
   ],
   "source": [
    "def insight1():\n",
    "    # Extracting Crime type and their count from csv cleaned data.[this represents data of 2022]\n",
    "    df1 = data_parser()\n",
    "    crimes = df1.groupby(\"Primary Type\").agg(Total=('Primary Type', 'count'))\n",
    "    # Extracting Crime type and their count from JSON cleaned data. [this represents data from 2010 - 2023]\n",
    "    t = web_parser1()\n",
    "    df2 = pd.DataFrame(t[\"INCIDENT_PRIMARY\"][\"top\"])\n",
    "    \n",
    "    #combining the crime type data.\n",
    "    \n",
    "    #C = crimes[\"Primary_Type\"].tolist()\n",
    "    count = crimes[\"Total\"].tolist()\n",
    "    \n",
    "    dict = {}\n",
    "    for index, row in df2.iterrows():\n",
    "        dict[row[\"item\"]] = int(row[\"count\"])\n",
    "    \n",
    "    count[6] += dict[\"CRIMINAL SEXUAL ASSAULT\"]\n",
    "    count[2] += dict[\"BATTERY\"]\n",
    "    count[10] += dict[\"HOMICIDE\"]\n",
    "    count[25] += dict[\"ROBBERY\"]\n",
    "    count[18] += dict[\"NON-FATAL\"]\n",
    "    \n",
    "    \n",
    "    \n",
    "    \n",
    "    crimes[\"Combined_Total_Cases\"] = count \n",
    "    crimes.drop([\"Total\"], axis=1)\n",
    "    \n",
    "    return crimes\n",
    "\n",
    "\n",
    "\n",
    "\n",
    "\n",
    "\n",
    "############ Function Call ############\n",
    "insight1()"
   ]
  },
  {
   "cell_type": "markdown",
   "metadata": {
    "id": "54oggrpbw6TX"
   },
   "source": [
    "### Insight 1 Explanation\n",
    "\n",
    "This method extract the different types of crimes occured in chicago. The data represents reported crime type and their occurences."
   ]
  },
  {
   "cell_type": "code",
   "execution_count": null,
   "metadata": {
    "id": "mJe4pMRgwuC5"
   },
   "outputs": [],
   "source": [
    "def insight2():\n",
    "    Murder Rape Robbery Assault burglary theft motorvehicle theft\n",
    "    \n",
    "\n",
    "\n",
    "\n",
    "\n",
    "############ Function Call ############\n",
    "insight2()"
   ]
  },
  {
   "cell_type": "markdown",
   "metadata": {
    "id": "P08Se47bxG5d"
   },
   "source": [
    "### Insight 2 Explanation\n",
    "\n",
    "Here, I am categorizing different crime types based on standerd crime category used in the web page. This will allow me to compare chicago crime with US crime report. "
   ]
  },
  {
   "cell_type": "code",
   "execution_count": null,
   "metadata": {
    "id": "00EurEXJwvxf"
   },
   "outputs": [],
   "source": [
    "def insight3():\n",
    "    df = data_parser()\n",
    "    crimes = df.groupby(\"Community Area\").agg(Total=('Community Area', 'count'))\n",
    "    return crimes\n",
    "\n",
    "\n",
    "\n",
    "\n",
    "\n",
    "############ Function Call ############\n",
    "insight3()"
   ]
  },
  {
   "cell_type": "markdown",
   "metadata": {
    "id": "6QNP4yx2xHkT"
   },
   "source": [
    "### Insight 3 Explanation\n",
    "\n",
    "This method aims at calculation the occurnce of crimes in different community Area. Based on the occurance and the report by Chicago police of safe Neighbourhood, the safe neighbourhoods in chicago can be predicted."
   ]
  },
  {
   "cell_type": "code",
   "execution_count": null,
   "metadata": {
    "id": "LUWgj50BwwKN"
   },
   "outputs": [],
   "source": [
    "def insight4():\n",
    "  pass\n",
    "\n",
    "\n",
    "\n",
    "\n",
    "\n",
    "############ Function Call ############\n",
    "insight4()"
   ]
  },
  {
   "cell_type": "markdown",
   "metadata": {
    "id": "4Tv4xPG8xIIh"
   },
   "source": [
    "### Insight 4 Explanation\n",
    "\n",
    "This method extract the age/sex/race range of the victims for reported crimes. This helps to predict which age groups are more in risks."
   ]
  },
  {
   "cell_type": "code",
   "execution_count": null,
   "metadata": {
    "id": "-2YUtUESwwgv"
   },
   "outputs": [],
   "source": [
    "def insight5():\n",
    "  pass\n",
    "\n",
    "\n",
    "\n",
    "\n",
    "\n",
    "############ Function Call ############\n",
    "insight5()"
   ]
  },
  {
   "cell_type": "markdown",
   "metadata": {
    "id": "JabcFGP9xIyn"
   },
   "source": [
    "### Insight 5 Explanation\n",
    "\n",
    "Based on Arrest data of Crime report 2022, we can check how many reported cases were solved. This analysis will provide some Statistics on how active chicago police department is. "
   ]
  },
  {
   "cell_type": "markdown",
   "metadata": {
    "id": "xN58r5MNxN4m"
   },
   "source": [
    "## Data Visualizations"
   ]
  },
  {
   "cell_type": "code",
   "execution_count": 61,
   "metadata": {
    "id": "stKXZGSnxS0f"
   },
   "outputs": [
    {
     "data": {
      "application/vnd.plotly.v1+json": {
       "config": {
        "plotlyServerURL": "https://plot.ly"
       },
       "data": [
        {
         "alignmentgroup": "True",
         "hovertemplate": "Combined_Total_Cases=%{x}<br>Primary Type=%{y}<extra></extra>",
         "legendgroup": "",
         "marker": {
          "color": "#636efa",
          "pattern": {
           "shape": ""
          }
         },
         "name": "",
         "offsetgroup": "",
         "orientation": "h",
         "showlegend": false,
         "textposition": "auto",
         "type": "bar",
         "x": [
          422,
          20800,
          74465,
          7592,
          177,
          27240,
          1561,
          4224,
          15624,
          9,
          23236,
          17,
          393,
          184,
          117,
          203,
          21447,
          4731,
          10,
          48,
          1872,
          7,
          283,
          5,
          711,
          10788,
          1222,
          447,
          54831,
          8775
         ],
         "xaxis": "x",
         "y": [
          "ARSON",
          "ASSAULT",
          "BATTERY",
          "BURGLARY",
          "CONCEALED CARRY LICENSE VIOLATION",
          "CRIMINAL DAMAGE",
          "CRIMINAL SEXUAL ASSAULT",
          "CRIMINAL TRESPASS",
          "DECEPTIVE PRACTICE",
          "GAMBLING",
          "HOMICIDE",
          "HUMAN TRAFFICKING",
          "INTERFERENCE WITH PUBLIC OFFICER",
          "INTIMIDATION",
          "KIDNAPPING",
          "LIQUOR LAW VIOLATION",
          "MOTOR VEHICLE THEFT",
          "NARCOTICS",
          "NON-CRIMINAL",
          "OBSCENITY",
          "OFFENSE INVOLVING CHILDREN",
          "OTHER NARCOTIC VIOLATION",
          "PROSTITUTION",
          "PUBLIC INDECENCY",
          "PUBLIC PEACE VIOLATION",
          "ROBBERY",
          "SEX OFFENSE",
          "STALKING",
          "THEFT",
          "WEAPONS VIOLATION"
         ],
         "yaxis": "y"
        }
       ],
       "layout": {
        "barmode": "relative",
        "legend": {
         "tracegroupgap": 0
        },
        "margin": {
         "t": 60
        },
        "template": {
         "data": {
          "bar": [
           {
            "error_x": {
             "color": "#2a3f5f"
            },
            "error_y": {
             "color": "#2a3f5f"
            },
            "marker": {
             "line": {
              "color": "#E5ECF6",
              "width": 0.5
             },
             "pattern": {
              "fillmode": "overlay",
              "size": 10,
              "solidity": 0.2
             }
            },
            "type": "bar"
           }
          ],
          "barpolar": [
           {
            "marker": {
             "line": {
              "color": "#E5ECF6",
              "width": 0.5
             },
             "pattern": {
              "fillmode": "overlay",
              "size": 10,
              "solidity": 0.2
             }
            },
            "type": "barpolar"
           }
          ],
          "carpet": [
           {
            "aaxis": {
             "endlinecolor": "#2a3f5f",
             "gridcolor": "white",
             "linecolor": "white",
             "minorgridcolor": "white",
             "startlinecolor": "#2a3f5f"
            },
            "baxis": {
             "endlinecolor": "#2a3f5f",
             "gridcolor": "white",
             "linecolor": "white",
             "minorgridcolor": "white",
             "startlinecolor": "#2a3f5f"
            },
            "type": "carpet"
           }
          ],
          "choropleth": [
           {
            "colorbar": {
             "outlinewidth": 0,
             "ticks": ""
            },
            "type": "choropleth"
           }
          ],
          "contour": [
           {
            "colorbar": {
             "outlinewidth": 0,
             "ticks": ""
            },
            "colorscale": [
             [
              0,
              "#0d0887"
             ],
             [
              0.1111111111111111,
              "#46039f"
             ],
             [
              0.2222222222222222,
              "#7201a8"
             ],
             [
              0.3333333333333333,
              "#9c179e"
             ],
             [
              0.4444444444444444,
              "#bd3786"
             ],
             [
              0.5555555555555556,
              "#d8576b"
             ],
             [
              0.6666666666666666,
              "#ed7953"
             ],
             [
              0.7777777777777778,
              "#fb9f3a"
             ],
             [
              0.8888888888888888,
              "#fdca26"
             ],
             [
              1,
              "#f0f921"
             ]
            ],
            "type": "contour"
           }
          ],
          "contourcarpet": [
           {
            "colorbar": {
             "outlinewidth": 0,
             "ticks": ""
            },
            "type": "contourcarpet"
           }
          ],
          "heatmap": [
           {
            "colorbar": {
             "outlinewidth": 0,
             "ticks": ""
            },
            "colorscale": [
             [
              0,
              "#0d0887"
             ],
             [
              0.1111111111111111,
              "#46039f"
             ],
             [
              0.2222222222222222,
              "#7201a8"
             ],
             [
              0.3333333333333333,
              "#9c179e"
             ],
             [
              0.4444444444444444,
              "#bd3786"
             ],
             [
              0.5555555555555556,
              "#d8576b"
             ],
             [
              0.6666666666666666,
              "#ed7953"
             ],
             [
              0.7777777777777778,
              "#fb9f3a"
             ],
             [
              0.8888888888888888,
              "#fdca26"
             ],
             [
              1,
              "#f0f921"
             ]
            ],
            "type": "heatmap"
           }
          ],
          "heatmapgl": [
           {
            "colorbar": {
             "outlinewidth": 0,
             "ticks": ""
            },
            "colorscale": [
             [
              0,
              "#0d0887"
             ],
             [
              0.1111111111111111,
              "#46039f"
             ],
             [
              0.2222222222222222,
              "#7201a8"
             ],
             [
              0.3333333333333333,
              "#9c179e"
             ],
             [
              0.4444444444444444,
              "#bd3786"
             ],
             [
              0.5555555555555556,
              "#d8576b"
             ],
             [
              0.6666666666666666,
              "#ed7953"
             ],
             [
              0.7777777777777778,
              "#fb9f3a"
             ],
             [
              0.8888888888888888,
              "#fdca26"
             ],
             [
              1,
              "#f0f921"
             ]
            ],
            "type": "heatmapgl"
           }
          ],
          "histogram": [
           {
            "marker": {
             "pattern": {
              "fillmode": "overlay",
              "size": 10,
              "solidity": 0.2
             }
            },
            "type": "histogram"
           }
          ],
          "histogram2d": [
           {
            "colorbar": {
             "outlinewidth": 0,
             "ticks": ""
            },
            "colorscale": [
             [
              0,
              "#0d0887"
             ],
             [
              0.1111111111111111,
              "#46039f"
             ],
             [
              0.2222222222222222,
              "#7201a8"
             ],
             [
              0.3333333333333333,
              "#9c179e"
             ],
             [
              0.4444444444444444,
              "#bd3786"
             ],
             [
              0.5555555555555556,
              "#d8576b"
             ],
             [
              0.6666666666666666,
              "#ed7953"
             ],
             [
              0.7777777777777778,
              "#fb9f3a"
             ],
             [
              0.8888888888888888,
              "#fdca26"
             ],
             [
              1,
              "#f0f921"
             ]
            ],
            "type": "histogram2d"
           }
          ],
          "histogram2dcontour": [
           {
            "colorbar": {
             "outlinewidth": 0,
             "ticks": ""
            },
            "colorscale": [
             [
              0,
              "#0d0887"
             ],
             [
              0.1111111111111111,
              "#46039f"
             ],
             [
              0.2222222222222222,
              "#7201a8"
             ],
             [
              0.3333333333333333,
              "#9c179e"
             ],
             [
              0.4444444444444444,
              "#bd3786"
             ],
             [
              0.5555555555555556,
              "#d8576b"
             ],
             [
              0.6666666666666666,
              "#ed7953"
             ],
             [
              0.7777777777777778,
              "#fb9f3a"
             ],
             [
              0.8888888888888888,
              "#fdca26"
             ],
             [
              1,
              "#f0f921"
             ]
            ],
            "type": "histogram2dcontour"
           }
          ],
          "mesh3d": [
           {
            "colorbar": {
             "outlinewidth": 0,
             "ticks": ""
            },
            "type": "mesh3d"
           }
          ],
          "parcoords": [
           {
            "line": {
             "colorbar": {
              "outlinewidth": 0,
              "ticks": ""
             }
            },
            "type": "parcoords"
           }
          ],
          "pie": [
           {
            "automargin": true,
            "type": "pie"
           }
          ],
          "scatter": [
           {
            "fillpattern": {
             "fillmode": "overlay",
             "size": 10,
             "solidity": 0.2
            },
            "type": "scatter"
           }
          ],
          "scatter3d": [
           {
            "line": {
             "colorbar": {
              "outlinewidth": 0,
              "ticks": ""
             }
            },
            "marker": {
             "colorbar": {
              "outlinewidth": 0,
              "ticks": ""
             }
            },
            "type": "scatter3d"
           }
          ],
          "scattercarpet": [
           {
            "marker": {
             "colorbar": {
              "outlinewidth": 0,
              "ticks": ""
             }
            },
            "type": "scattercarpet"
           }
          ],
          "scattergeo": [
           {
            "marker": {
             "colorbar": {
              "outlinewidth": 0,
              "ticks": ""
             }
            },
            "type": "scattergeo"
           }
          ],
          "scattergl": [
           {
            "marker": {
             "colorbar": {
              "outlinewidth": 0,
              "ticks": ""
             }
            },
            "type": "scattergl"
           }
          ],
          "scattermapbox": [
           {
            "marker": {
             "colorbar": {
              "outlinewidth": 0,
              "ticks": ""
             }
            },
            "type": "scattermapbox"
           }
          ],
          "scatterpolar": [
           {
            "marker": {
             "colorbar": {
              "outlinewidth": 0,
              "ticks": ""
             }
            },
            "type": "scatterpolar"
           }
          ],
          "scatterpolargl": [
           {
            "marker": {
             "colorbar": {
              "outlinewidth": 0,
              "ticks": ""
             }
            },
            "type": "scatterpolargl"
           }
          ],
          "scatterternary": [
           {
            "marker": {
             "colorbar": {
              "outlinewidth": 0,
              "ticks": ""
             }
            },
            "type": "scatterternary"
           }
          ],
          "surface": [
           {
            "colorbar": {
             "outlinewidth": 0,
             "ticks": ""
            },
            "colorscale": [
             [
              0,
              "#0d0887"
             ],
             [
              0.1111111111111111,
              "#46039f"
             ],
             [
              0.2222222222222222,
              "#7201a8"
             ],
             [
              0.3333333333333333,
              "#9c179e"
             ],
             [
              0.4444444444444444,
              "#bd3786"
             ],
             [
              0.5555555555555556,
              "#d8576b"
             ],
             [
              0.6666666666666666,
              "#ed7953"
             ],
             [
              0.7777777777777778,
              "#fb9f3a"
             ],
             [
              0.8888888888888888,
              "#fdca26"
             ],
             [
              1,
              "#f0f921"
             ]
            ],
            "type": "surface"
           }
          ],
          "table": [
           {
            "cells": {
             "fill": {
              "color": "#EBF0F8"
             },
             "line": {
              "color": "white"
             }
            },
            "header": {
             "fill": {
              "color": "#C8D4E3"
             },
             "line": {
              "color": "white"
             }
            },
            "type": "table"
           }
          ]
         },
         "layout": {
          "annotationdefaults": {
           "arrowcolor": "#2a3f5f",
           "arrowhead": 0,
           "arrowwidth": 1
          },
          "autotypenumbers": "strict",
          "coloraxis": {
           "colorbar": {
            "outlinewidth": 0,
            "ticks": ""
           }
          },
          "colorscale": {
           "diverging": [
            [
             0,
             "#8e0152"
            ],
            [
             0.1,
             "#c51b7d"
            ],
            [
             0.2,
             "#de77ae"
            ],
            [
             0.3,
             "#f1b6da"
            ],
            [
             0.4,
             "#fde0ef"
            ],
            [
             0.5,
             "#f7f7f7"
            ],
            [
             0.6,
             "#e6f5d0"
            ],
            [
             0.7,
             "#b8e186"
            ],
            [
             0.8,
             "#7fbc41"
            ],
            [
             0.9,
             "#4d9221"
            ],
            [
             1,
             "#276419"
            ]
           ],
           "sequential": [
            [
             0,
             "#0d0887"
            ],
            [
             0.1111111111111111,
             "#46039f"
            ],
            [
             0.2222222222222222,
             "#7201a8"
            ],
            [
             0.3333333333333333,
             "#9c179e"
            ],
            [
             0.4444444444444444,
             "#bd3786"
            ],
            [
             0.5555555555555556,
             "#d8576b"
            ],
            [
             0.6666666666666666,
             "#ed7953"
            ],
            [
             0.7777777777777778,
             "#fb9f3a"
            ],
            [
             0.8888888888888888,
             "#fdca26"
            ],
            [
             1,
             "#f0f921"
            ]
           ],
           "sequentialminus": [
            [
             0,
             "#0d0887"
            ],
            [
             0.1111111111111111,
             "#46039f"
            ],
            [
             0.2222222222222222,
             "#7201a8"
            ],
            [
             0.3333333333333333,
             "#9c179e"
            ],
            [
             0.4444444444444444,
             "#bd3786"
            ],
            [
             0.5555555555555556,
             "#d8576b"
            ],
            [
             0.6666666666666666,
             "#ed7953"
            ],
            [
             0.7777777777777778,
             "#fb9f3a"
            ],
            [
             0.8888888888888888,
             "#fdca26"
            ],
            [
             1,
             "#f0f921"
            ]
           ]
          },
          "colorway": [
           "#636efa",
           "#EF553B",
           "#00cc96",
           "#ab63fa",
           "#FFA15A",
           "#19d3f3",
           "#FF6692",
           "#B6E880",
           "#FF97FF",
           "#FECB52"
          ],
          "font": {
           "color": "#2a3f5f"
          },
          "geo": {
           "bgcolor": "white",
           "lakecolor": "white",
           "landcolor": "#E5ECF6",
           "showlakes": true,
           "showland": true,
           "subunitcolor": "white"
          },
          "hoverlabel": {
           "align": "left"
          },
          "hovermode": "closest",
          "mapbox": {
           "style": "light"
          },
          "paper_bgcolor": "white",
          "plot_bgcolor": "#E5ECF6",
          "polar": {
           "angularaxis": {
            "gridcolor": "white",
            "linecolor": "white",
            "ticks": ""
           },
           "bgcolor": "#E5ECF6",
           "radialaxis": {
            "gridcolor": "white",
            "linecolor": "white",
            "ticks": ""
           }
          },
          "scene": {
           "xaxis": {
            "backgroundcolor": "#E5ECF6",
            "gridcolor": "white",
            "gridwidth": 2,
            "linecolor": "white",
            "showbackground": true,
            "ticks": "",
            "zerolinecolor": "white"
           },
           "yaxis": {
            "backgroundcolor": "#E5ECF6",
            "gridcolor": "white",
            "gridwidth": 2,
            "linecolor": "white",
            "showbackground": true,
            "ticks": "",
            "zerolinecolor": "white"
           },
           "zaxis": {
            "backgroundcolor": "#E5ECF6",
            "gridcolor": "white",
            "gridwidth": 2,
            "linecolor": "white",
            "showbackground": true,
            "ticks": "",
            "zerolinecolor": "white"
           }
          },
          "shapedefaults": {
           "line": {
            "color": "#2a3f5f"
           }
          },
          "ternary": {
           "aaxis": {
            "gridcolor": "white",
            "linecolor": "white",
            "ticks": ""
           },
           "baxis": {
            "gridcolor": "white",
            "linecolor": "white",
            "ticks": ""
           },
           "bgcolor": "#E5ECF6",
           "caxis": {
            "gridcolor": "white",
            "linecolor": "white",
            "ticks": ""
           }
          },
          "title": {
           "x": 0.05
          },
          "xaxis": {
           "automargin": true,
           "gridcolor": "white",
           "linecolor": "white",
           "ticks": "",
           "title": {
            "standoff": 15
           },
           "zerolinecolor": "white",
           "zerolinewidth": 2
          },
          "yaxis": {
           "automargin": true,
           "gridcolor": "white",
           "linecolor": "white",
           "ticks": "",
           "title": {
            "standoff": 15
           },
           "zerolinecolor": "white",
           "zerolinewidth": 2
          }
         }
        },
        "xaxis": {
         "anchor": "y",
         "domain": [
          0,
          1
         ],
         "title": {
          "text": "Combined_Total_Cases"
         }
        },
        "yaxis": {
         "anchor": "x",
         "domain": [
          0,
          1
         ],
         "title": {
          "text": "Primary Type"
         }
        }
       }
      },
      "text/html": [
       "<div>                            <div id=\"5ccd3449-b0cf-490e-9d79-a02b12e526f4\" class=\"plotly-graph-div\" style=\"height:525px; width:100%;\"></div>            <script type=\"text/javascript\">                require([\"plotly\"], function(Plotly) {                    window.PLOTLYENV=window.PLOTLYENV || {};                                    if (document.getElementById(\"5ccd3449-b0cf-490e-9d79-a02b12e526f4\")) {                    Plotly.newPlot(                        \"5ccd3449-b0cf-490e-9d79-a02b12e526f4\",                        [{\"alignmentgroup\":\"True\",\"hovertemplate\":\"Combined_Total_Cases=%{x}<br>Primary Type=%{y}<extra></extra>\",\"legendgroup\":\"\",\"marker\":{\"color\":\"#636efa\",\"pattern\":{\"shape\":\"\"}},\"name\":\"\",\"offsetgroup\":\"\",\"orientation\":\"h\",\"showlegend\":false,\"textposition\":\"auto\",\"x\":[422,20800,74465,7592,177,27240,1561,4224,15624,9,23236,17,393,184,117,203,21447,4731,10,48,1872,7,283,5,711,10788,1222,447,54831,8775],\"xaxis\":\"x\",\"y\":[\"ARSON\",\"ASSAULT\",\"BATTERY\",\"BURGLARY\",\"CONCEALED CARRY LICENSE VIOLATION\",\"CRIMINAL DAMAGE\",\"CRIMINAL SEXUAL ASSAULT\",\"CRIMINAL TRESPASS\",\"DECEPTIVE PRACTICE\",\"GAMBLING\",\"HOMICIDE\",\"HUMAN TRAFFICKING\",\"INTERFERENCE WITH PUBLIC OFFICER\",\"INTIMIDATION\",\"KIDNAPPING\",\"LIQUOR LAW VIOLATION\",\"MOTOR VEHICLE THEFT\",\"NARCOTICS\",\"NON-CRIMINAL\",\"OBSCENITY\",\"OFFENSE INVOLVING CHILDREN\",\"OTHER NARCOTIC VIOLATION\",\"PROSTITUTION\",\"PUBLIC INDECENCY\",\"PUBLIC PEACE VIOLATION\",\"ROBBERY\",\"SEX OFFENSE\",\"STALKING\",\"THEFT\",\"WEAPONS VIOLATION\"],\"yaxis\":\"y\",\"type\":\"bar\"}],                        {\"template\":{\"data\":{\"histogram2dcontour\":[{\"type\":\"histogram2dcontour\",\"colorbar\":{\"outlinewidth\":0,\"ticks\":\"\"},\"colorscale\":[[0.0,\"#0d0887\"],[0.1111111111111111,\"#46039f\"],[0.2222222222222222,\"#7201a8\"],[0.3333333333333333,\"#9c179e\"],[0.4444444444444444,\"#bd3786\"],[0.5555555555555556,\"#d8576b\"],[0.6666666666666666,\"#ed7953\"],[0.7777777777777778,\"#fb9f3a\"],[0.8888888888888888,\"#fdca26\"],[1.0,\"#f0f921\"]]}],\"choropleth\":[{\"type\":\"choropleth\",\"colorbar\":{\"outlinewidth\":0,\"ticks\":\"\"}}],\"histogram2d\":[{\"type\":\"histogram2d\",\"colorbar\":{\"outlinewidth\":0,\"ticks\":\"\"},\"colorscale\":[[0.0,\"#0d0887\"],[0.1111111111111111,\"#46039f\"],[0.2222222222222222,\"#7201a8\"],[0.3333333333333333,\"#9c179e\"],[0.4444444444444444,\"#bd3786\"],[0.5555555555555556,\"#d8576b\"],[0.6666666666666666,\"#ed7953\"],[0.7777777777777778,\"#fb9f3a\"],[0.8888888888888888,\"#fdca26\"],[1.0,\"#f0f921\"]]}],\"heatmap\":[{\"type\":\"heatmap\",\"colorbar\":{\"outlinewidth\":0,\"ticks\":\"\"},\"colorscale\":[[0.0,\"#0d0887\"],[0.1111111111111111,\"#46039f\"],[0.2222222222222222,\"#7201a8\"],[0.3333333333333333,\"#9c179e\"],[0.4444444444444444,\"#bd3786\"],[0.5555555555555556,\"#d8576b\"],[0.6666666666666666,\"#ed7953\"],[0.7777777777777778,\"#fb9f3a\"],[0.8888888888888888,\"#fdca26\"],[1.0,\"#f0f921\"]]}],\"heatmapgl\":[{\"type\":\"heatmapgl\",\"colorbar\":{\"outlinewidth\":0,\"ticks\":\"\"},\"colorscale\":[[0.0,\"#0d0887\"],[0.1111111111111111,\"#46039f\"],[0.2222222222222222,\"#7201a8\"],[0.3333333333333333,\"#9c179e\"],[0.4444444444444444,\"#bd3786\"],[0.5555555555555556,\"#d8576b\"],[0.6666666666666666,\"#ed7953\"],[0.7777777777777778,\"#fb9f3a\"],[0.8888888888888888,\"#fdca26\"],[1.0,\"#f0f921\"]]}],\"contourcarpet\":[{\"type\":\"contourcarpet\",\"colorbar\":{\"outlinewidth\":0,\"ticks\":\"\"}}],\"contour\":[{\"type\":\"contour\",\"colorbar\":{\"outlinewidth\":0,\"ticks\":\"\"},\"colorscale\":[[0.0,\"#0d0887\"],[0.1111111111111111,\"#46039f\"],[0.2222222222222222,\"#7201a8\"],[0.3333333333333333,\"#9c179e\"],[0.4444444444444444,\"#bd3786\"],[0.5555555555555556,\"#d8576b\"],[0.6666666666666666,\"#ed7953\"],[0.7777777777777778,\"#fb9f3a\"],[0.8888888888888888,\"#fdca26\"],[1.0,\"#f0f921\"]]}],\"surface\":[{\"type\":\"surface\",\"colorbar\":{\"outlinewidth\":0,\"ticks\":\"\"},\"colorscale\":[[0.0,\"#0d0887\"],[0.1111111111111111,\"#46039f\"],[0.2222222222222222,\"#7201a8\"],[0.3333333333333333,\"#9c179e\"],[0.4444444444444444,\"#bd3786\"],[0.5555555555555556,\"#d8576b\"],[0.6666666666666666,\"#ed7953\"],[0.7777777777777778,\"#fb9f3a\"],[0.8888888888888888,\"#fdca26\"],[1.0,\"#f0f921\"]]}],\"mesh3d\":[{\"type\":\"mesh3d\",\"colorbar\":{\"outlinewidth\":0,\"ticks\":\"\"}}],\"scatter\":[{\"fillpattern\":{\"fillmode\":\"overlay\",\"size\":10,\"solidity\":0.2},\"type\":\"scatter\"}],\"parcoords\":[{\"type\":\"parcoords\",\"line\":{\"colorbar\":{\"outlinewidth\":0,\"ticks\":\"\"}}}],\"scatterpolargl\":[{\"type\":\"scatterpolargl\",\"marker\":{\"colorbar\":{\"outlinewidth\":0,\"ticks\":\"\"}}}],\"bar\":[{\"error_x\":{\"color\":\"#2a3f5f\"},\"error_y\":{\"color\":\"#2a3f5f\"},\"marker\":{\"line\":{\"color\":\"#E5ECF6\",\"width\":0.5},\"pattern\":{\"fillmode\":\"overlay\",\"size\":10,\"solidity\":0.2}},\"type\":\"bar\"}],\"scattergeo\":[{\"type\":\"scattergeo\",\"marker\":{\"colorbar\":{\"outlinewidth\":0,\"ticks\":\"\"}}}],\"scatterpolar\":[{\"type\":\"scatterpolar\",\"marker\":{\"colorbar\":{\"outlinewidth\":0,\"ticks\":\"\"}}}],\"histogram\":[{\"marker\":{\"pattern\":{\"fillmode\":\"overlay\",\"size\":10,\"solidity\":0.2}},\"type\":\"histogram\"}],\"scattergl\":[{\"type\":\"scattergl\",\"marker\":{\"colorbar\":{\"outlinewidth\":0,\"ticks\":\"\"}}}],\"scatter3d\":[{\"type\":\"scatter3d\",\"line\":{\"colorbar\":{\"outlinewidth\":0,\"ticks\":\"\"}},\"marker\":{\"colorbar\":{\"outlinewidth\":0,\"ticks\":\"\"}}}],\"scattermapbox\":[{\"type\":\"scattermapbox\",\"marker\":{\"colorbar\":{\"outlinewidth\":0,\"ticks\":\"\"}}}],\"scatterternary\":[{\"type\":\"scatterternary\",\"marker\":{\"colorbar\":{\"outlinewidth\":0,\"ticks\":\"\"}}}],\"scattercarpet\":[{\"type\":\"scattercarpet\",\"marker\":{\"colorbar\":{\"outlinewidth\":0,\"ticks\":\"\"}}}],\"carpet\":[{\"aaxis\":{\"endlinecolor\":\"#2a3f5f\",\"gridcolor\":\"white\",\"linecolor\":\"white\",\"minorgridcolor\":\"white\",\"startlinecolor\":\"#2a3f5f\"},\"baxis\":{\"endlinecolor\":\"#2a3f5f\",\"gridcolor\":\"white\",\"linecolor\":\"white\",\"minorgridcolor\":\"white\",\"startlinecolor\":\"#2a3f5f\"},\"type\":\"carpet\"}],\"table\":[{\"cells\":{\"fill\":{\"color\":\"#EBF0F8\"},\"line\":{\"color\":\"white\"}},\"header\":{\"fill\":{\"color\":\"#C8D4E3\"},\"line\":{\"color\":\"white\"}},\"type\":\"table\"}],\"barpolar\":[{\"marker\":{\"line\":{\"color\":\"#E5ECF6\",\"width\":0.5},\"pattern\":{\"fillmode\":\"overlay\",\"size\":10,\"solidity\":0.2}},\"type\":\"barpolar\"}],\"pie\":[{\"automargin\":true,\"type\":\"pie\"}]},\"layout\":{\"autotypenumbers\":\"strict\",\"colorway\":[\"#636efa\",\"#EF553B\",\"#00cc96\",\"#ab63fa\",\"#FFA15A\",\"#19d3f3\",\"#FF6692\",\"#B6E880\",\"#FF97FF\",\"#FECB52\"],\"font\":{\"color\":\"#2a3f5f\"},\"hovermode\":\"closest\",\"hoverlabel\":{\"align\":\"left\"},\"paper_bgcolor\":\"white\",\"plot_bgcolor\":\"#E5ECF6\",\"polar\":{\"bgcolor\":\"#E5ECF6\",\"angularaxis\":{\"gridcolor\":\"white\",\"linecolor\":\"white\",\"ticks\":\"\"},\"radialaxis\":{\"gridcolor\":\"white\",\"linecolor\":\"white\",\"ticks\":\"\"}},\"ternary\":{\"bgcolor\":\"#E5ECF6\",\"aaxis\":{\"gridcolor\":\"white\",\"linecolor\":\"white\",\"ticks\":\"\"},\"baxis\":{\"gridcolor\":\"white\",\"linecolor\":\"white\",\"ticks\":\"\"},\"caxis\":{\"gridcolor\":\"white\",\"linecolor\":\"white\",\"ticks\":\"\"}},\"coloraxis\":{\"colorbar\":{\"outlinewidth\":0,\"ticks\":\"\"}},\"colorscale\":{\"sequential\":[[0.0,\"#0d0887\"],[0.1111111111111111,\"#46039f\"],[0.2222222222222222,\"#7201a8\"],[0.3333333333333333,\"#9c179e\"],[0.4444444444444444,\"#bd3786\"],[0.5555555555555556,\"#d8576b\"],[0.6666666666666666,\"#ed7953\"],[0.7777777777777778,\"#fb9f3a\"],[0.8888888888888888,\"#fdca26\"],[1.0,\"#f0f921\"]],\"sequentialminus\":[[0.0,\"#0d0887\"],[0.1111111111111111,\"#46039f\"],[0.2222222222222222,\"#7201a8\"],[0.3333333333333333,\"#9c179e\"],[0.4444444444444444,\"#bd3786\"],[0.5555555555555556,\"#d8576b\"],[0.6666666666666666,\"#ed7953\"],[0.7777777777777778,\"#fb9f3a\"],[0.8888888888888888,\"#fdca26\"],[1.0,\"#f0f921\"]],\"diverging\":[[0,\"#8e0152\"],[0.1,\"#c51b7d\"],[0.2,\"#de77ae\"],[0.3,\"#f1b6da\"],[0.4,\"#fde0ef\"],[0.5,\"#f7f7f7\"],[0.6,\"#e6f5d0\"],[0.7,\"#b8e186\"],[0.8,\"#7fbc41\"],[0.9,\"#4d9221\"],[1,\"#276419\"]]},\"xaxis\":{\"gridcolor\":\"white\",\"linecolor\":\"white\",\"ticks\":\"\",\"title\":{\"standoff\":15},\"zerolinecolor\":\"white\",\"automargin\":true,\"zerolinewidth\":2},\"yaxis\":{\"gridcolor\":\"white\",\"linecolor\":\"white\",\"ticks\":\"\",\"title\":{\"standoff\":15},\"zerolinecolor\":\"white\",\"automargin\":true,\"zerolinewidth\":2},\"scene\":{\"xaxis\":{\"backgroundcolor\":\"#E5ECF6\",\"gridcolor\":\"white\",\"linecolor\":\"white\",\"showbackground\":true,\"ticks\":\"\",\"zerolinecolor\":\"white\",\"gridwidth\":2},\"yaxis\":{\"backgroundcolor\":\"#E5ECF6\",\"gridcolor\":\"white\",\"linecolor\":\"white\",\"showbackground\":true,\"ticks\":\"\",\"zerolinecolor\":\"white\",\"gridwidth\":2},\"zaxis\":{\"backgroundcolor\":\"#E5ECF6\",\"gridcolor\":\"white\",\"linecolor\":\"white\",\"showbackground\":true,\"ticks\":\"\",\"zerolinecolor\":\"white\",\"gridwidth\":2}},\"shapedefaults\":{\"line\":{\"color\":\"#2a3f5f\"}},\"annotationdefaults\":{\"arrowcolor\":\"#2a3f5f\",\"arrowhead\":0,\"arrowwidth\":1},\"geo\":{\"bgcolor\":\"white\",\"landcolor\":\"#E5ECF6\",\"subunitcolor\":\"white\",\"showland\":true,\"showlakes\":true,\"lakecolor\":\"white\"},\"title\":{\"x\":0.05},\"mapbox\":{\"style\":\"light\"}}},\"xaxis\":{\"anchor\":\"y\",\"domain\":[0.0,1.0],\"title\":{\"text\":\"Combined_Total_Cases\"}},\"yaxis\":{\"anchor\":\"x\",\"domain\":[0.0,1.0],\"title\":{\"text\":\"Primary Type\"}},\"legend\":{\"tracegroupgap\":0},\"margin\":{\"t\":60},\"barmode\":\"relative\"},                        {\"responsive\": true}                    ).then(function(){\n",
       "                            \n",
       "var gd = document.getElementById('5ccd3449-b0cf-490e-9d79-a02b12e526f4');\n",
       "var x = new MutationObserver(function (mutations, observer) {{\n",
       "        var display = window.getComputedStyle(gd).display;\n",
       "        if (!display || display === 'none') {{\n",
       "            console.log([gd, 'removed!']);\n",
       "            Plotly.purge(gd);\n",
       "            observer.disconnect();\n",
       "        }}\n",
       "}});\n",
       "\n",
       "// Listen for the removal of the full notebook cells\n",
       "var notebookContainer = gd.closest('#notebook-container');\n",
       "if (notebookContainer) {{\n",
       "    x.observe(notebookContainer, {childList: true});\n",
       "}}\n",
       "\n",
       "// Listen for the clearing of the current output cell\n",
       "var outputEl = gd.closest('.output');\n",
       "if (outputEl) {{\n",
       "    x.observe(outputEl, {childList: true});\n",
       "}}\n",
       "\n",
       "                        })                };                });            </script>        </div>"
      ]
     },
     "metadata": {},
     "output_type": "display_data"
    }
   ],
   "source": [
    "def visual1():\n",
    "    bar = insight1()\n",
    "    fig = px.bar(bar, x = \"Combined_Total_Cases\", title=\"Crime Type in Chicago\")\n",
    "    fig.show()\n",
    "\n",
    "\n",
    "\n",
    "\n",
    "############ Function Call ############\n",
    "visual1()"
   ]
  },
  {
   "cell_type": "markdown",
   "metadata": {
    "id": "-CDB8hXwxgSB"
   },
   "source": [
    "### Visualization 1 Explanation\n",
    "\n",
    "Insert explanation here"
   ]
  },
  {
   "cell_type": "code",
   "execution_count": null,
   "metadata": {
    "id": "vACib_mBxW0E"
   },
   "outputs": [],
   "source": [
    "def visual2():\n",
    "  pass\n",
    "\n",
    "\n",
    "\n",
    "\n",
    "\n",
    "############ Function Call ############\n",
    "visual2()"
   ]
  },
  {
   "cell_type": "markdown",
   "metadata": {
    "id": "hbq6zDSuxg3b"
   },
   "source": [
    "### Visualization 2 Explanation\n",
    "\n",
    "Insert explanation here"
   ]
  },
  {
   "cell_type": "code",
   "execution_count": null,
   "metadata": {
    "id": "mOyKClx1xXOt"
   },
   "outputs": [],
   "source": [
    "def visual3():\n",
    "  pass\n",
    "\n",
    "\n",
    "\n",
    "\n",
    "\n",
    "############ Function Call ############\n",
    "visual3()"
   ]
  },
  {
   "cell_type": "markdown",
   "metadata": {
    "id": "YLZvX6Plxhhs"
   },
   "source": [
    "### Visualization 3 Explanation\n",
    "\n",
    "Insert explanation here"
   ]
  },
  {
   "cell_type": "markdown",
   "metadata": {
    "id": "kd74HqEPx8zh"
   },
   "source": [
    "# Cited Sources\n",
    "\n",
    "If you used any additional sources to complete your Data Analysis section, list them here:\n",
    "\n",
    "\n",
    "*   Example Module Documentation\n",
    "*   Example Stack Overflow Assistance\n",
    "\n"
   ]
  },
  {
   "cell_type": "markdown",
   "metadata": {
    "id": "iuYbFQplyXK2"
   },
   "source": [
    "# Graphical User Interface (GUI) Implementation\n",
    "If you decide to create a GUI for Phase II, please create a separate Python file (.py) to build your GUI. You must submit both the completed PhaseII.ipynb and your Python GUI file."
   ]
  },
  {
   "cell_type": "markdown",
   "metadata": {
    "id": "mZENd-i9cinj"
   },
   "source": [
    "# Submission\n",
    "\n",
    "Prior to submitting your notebook to Gradescope, be sure to <b>run all functions within this file</b>. We will not run your functions ourselves, so we must see your outputs within this file in order to receive full credit.\n"
   ]
  }
 ],
 "metadata": {
  "colab": {
   "collapsed_sections": [],
   "name": "PhaseIII.ipynb",
   "provenance": []
  },
  "kernelspec": {
   "display_name": "Python 3 (ipykernel)",
   "language": "python",
   "name": "python3"
  },
  "language_info": {
   "codemirror_mode": {
    "name": "ipython",
    "version": 3
   },
   "file_extension": ".py",
   "mimetype": "text/x-python",
   "name": "python",
   "nbconvert_exporter": "python",
   "pygments_lexer": "ipython3",
   "version": "3.11.4"
  }
 },
 "nbformat": 4,
 "nbformat_minor": 1
}
